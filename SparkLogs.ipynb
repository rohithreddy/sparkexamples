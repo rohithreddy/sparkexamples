{
 "cells": [
  {
   "cell_type": "markdown",
   "metadata": {},
   "source": [
    "## use findspark program to setup pyspark easily"
   ]
  },
  {
   "cell_type": "code",
   "execution_count": 1,
   "metadata": {
    "collapsed": true
   },
   "outputs": [],
   "source": [
    "import os,findspark\n",
    "os.environ['SPARK_HOME'] = '/home/rohith/work/spark-1.6.1-bin-without-hadoop'\n",
    "findspark.init()"
   ]
  },
  {
   "cell_type": "markdown",
   "metadata": {},
   "source": [
    "Now pyspark and its modules are available for imports "
   ]
  },
  {
   "cell_type": "code",
   "execution_count": 2,
   "metadata": {
    "collapsed": true
   },
   "outputs": [],
   "source": [
    "from pyspark import SparkContext, SparkConf\n",
    "from pyspark.sql import SQLContext, Row"
   ]
  },
  {
   "cell_type": "code",
   "execution_count": 3,
   "metadata": {
    "collapsed": true
   },
   "outputs": [],
   "source": [
    "import re"
   ]
  },
  {
   "cell_type": "code",
   "execution_count": 4,
   "metadata": {
    "collapsed": true
   },
   "outputs": [],
   "source": [
    "APP_NAME = \"Logs Spark\"\n",
    "conf = SparkConf().setAppName(APP_NAME)\n",
    "conf = conf.setMaster(\"local[*]\")\n",
    "sc = SparkContext(conf=conf)\n",
    "sqlContext = SQLContext(sc)"
   ]
  },
  {
   "cell_type": "code",
   "execution_count": 7,
   "metadata": {
    "collapsed": true
   },
   "outputs": [],
   "source": [
    "logFiles = sc.textFile(\"file:/var/log/nginx/access.log\")"
   ]
  },
  {
   "cell_type": "code",
   "execution_count": 8,
   "metadata": {
    "collapsed": true
   },
   "outputs": [],
   "source": [
    "NGINX_LOGPATT = '''^(\\S+) (\\S+) (\\S+) \\[([\\w:/]+\\s[+\\-]\\d{4})\\]  \"(\\S+) (\\S+) (\\S+)\" (\\S+) (\\S+) \"(\\S+)\" \"(\\w+\\/\\S+ \\S+ \\S+ \\S+ \\S+ \\S+ \\S+)\" \"(\\S+)\"'''"
   ]
  },
  {
   "cell_type": "code",
   "execution_count": 9,
   "metadata": {
    "collapsed": true
   },
   "outputs": [],
   "source": [
    "def parse_nginx_log(logline):\n",
    "    match = re.search(NGINX_LOGPATT, logline)\n",
    "    if match is None:\n",
    "        raise Exception(\"Invalid logline : %s\" % logline)\n",
    "    return Row(\n",
    "        ip_address = match.group(1),\n",
    "        remote_user = match.group(3),\n",
    "        time_stamp = match.group(4),\n",
    "        request_type = match.group(5),\n",
    "        end_point = match.group(6),\n",
    "        protocol = match.group(7),\n",
    "        http_status_code = match.group(8),\n",
    "        content_size = int(match.group(9)),\n",
    "        referer = match.group(10),\n",
    "        user_agent = match.group(11),\n",
    "        cookie_user = match.group(12)\n",
    "    )"
   ]
  },
  {
   "cell_type": "code",
   "execution_count": 11,
   "metadata": {
    "collapsed": true
   },
   "outputs": [],
   "source": [
    "access_logs = logFiles.map(parse_nginx_log).cache()"
   ]
  },
  {
   "cell_type": "code",
   "execution_count": 12,
   "metadata": {
    "collapsed": false
   },
   "outputs": [
    {
     "name": "stdout",
     "output_type": "stream",
     "text": [
      "Content Size Avg: 283, Min: 0, Max: 514\n"
     ]
    }
   ],
   "source": [
    "content_sizes = access_logs.map(lambda log: log.content_size).cache()\n",
    "print \"Content Size Avg: %i, Min: %i, Max: %s\" % (\n",
    "    content_sizes.reduce(lambda a, b : a + b) / content_sizes.count(),\n",
    "    content_sizes.min(),\n",
    "    content_sizes.max()\n",
    "    )"
   ]
  },
  {
   "cell_type": "markdown",
   "metadata": {},
   "source": [
    "Response Code to Count\n"
   ]
  },
  {
   "cell_type": "code",
   "execution_count": 13,
   "metadata": {
    "collapsed": false
   },
   "outputs": [
    {
     "name": "stdout",
     "output_type": "stream",
     "text": [
      "Response Code Counts: [(u'302', 6), (u'502', 1), (u'200', 63), (u'404', 1), (u'499', 1)]\n"
     ]
    }
   ],
   "source": [
    "responseCodeToCount = (access_logs.map(lambda log: (log.http_status_code, 1))\n",
    "                       .reduceByKey(lambda a, b : a + b)\n",
    "                       .take(100))\n",
    "print \"Response Code Counts: %s\" % (responseCodeToCount)"
   ]
  },
  {
   "cell_type": "code",
   "execution_count": 14,
   "metadata": {
    "collapsed": false
   },
   "outputs": [
    {
     "name": "stdout",
     "output_type": "stream",
     "text": [
      "IpAddresses that have accessed more then 10 times: [u'127.0.0.1']\n"
     ]
    }
   ],
   "source": [
    "ipAddresses = (access_logs\n",
    "               .map(lambda log: (log.ip_address, 1))\n",
    "               .reduceByKey(lambda a, b : a + b)\n",
    "               .filter(lambda s: s[1] > 10)\n",
    "               .map(lambda s: s[0])\n",
    "               .take(100))\n",
    "print \"IpAddresses that have accessed more then 10 times: %s\" % (ipAddresses)"
   ]
  },
  {
   "cell_type": "code",
   "execution_count": 15,
   "metadata": {
    "collapsed": false
   },
   "outputs": [
    {
     "name": "stdout",
     "output_type": "stream",
     "text": [
      "Top Endpoints: [(u'/', 21), (u'/register', 8), (u'/recharge', 8), (u'/product1', 7), (u'/product2', 6), (u'/login?next=', 6), (u'/product3', 5), (u'/login', 4), (u'/recharge?next=', 3), (u'/register?next=', 2)]\n"
     ]
    }
   ],
   "source": [
    "topEndpoints = (access_logs\n",
    "                .map(lambda log: (log.end_point, 1))\n",
    "                .reduceByKey(lambda a, b : a + b)\n",
    "                .takeOrdered(10, lambda s: -1 * s[1]))\n",
    "print \"Top Endpoints: %s\" % (topEndpoints)"
   ]
  },
  {
   "cell_type": "code",
   "execution_count": 16,
   "metadata": {
    "collapsed": false
   },
   "outputs": [
    {
     "data": {
      "text/plain": [
       "[Row(content_size=464, cookie_user=u'\\\\x22rohith.reddy@customercentria.com\\\\x22', end_point=u'/register', http_status_code=u'200', ip_address=u'127.0.0.1', protocol=u'HTTP/1.1', referer=u'http://localhost:8090/product3', remote_user=u'-', request_type=u'GET', time_stamp=u'25/May/2016:17:17:21 +0530', user_agent=u'Mozilla/5.0 (X11; Linux x86_64; rv:48.0) Gecko/20100101 Firefox/48.0'),\n",
       " Row(content_size=182, cookie_user=u'\\\\x22rohith.reddy@customercentria.com\\\\x22', end_point=u'/', http_status_code=u'200', ip_address=u'127.0.0.1', protocol=u'HTTP/1.1', referer=u'http://localhost:8090/register', remote_user=u'-', request_type=u'GET', time_stamp=u'25/May/2016:17:17:22 +0530', user_agent=u'Mozilla/5.0 (X11; Linux x86_64; rv:48.0) Gecko/20100101 Firefox/48.0'),\n",
       " Row(content_size=464, cookie_user=u'\\\\x22rohith.reddy@customercentria.com\\\\x22', end_point=u'/recharge', http_status_code=u'200', ip_address=u'127.0.0.1', protocol=u'HTTP/1.1', referer=u'http://localhost:8090/', remote_user=u'-', request_type=u'GET', time_stamp=u'25/May/2016:17:17:23 +0530', user_agent=u'Mozilla/5.0 (X11; Linux x86_64; rv:48.0) Gecko/20100101 Firefox/48.0'),\n",
       " Row(content_size=182, cookie_user=u'\\\\x22rohith.reddy@customercentria.com\\\\x22', end_point=u'/', http_status_code=u'200', ip_address=u'127.0.0.1', protocol=u'HTTP/1.1', referer=u'http://localhost:8090/recharge', remote_user=u'-', request_type=u'GET', time_stamp=u'25/May/2016:17:17:24 +0530', user_agent=u'Mozilla/5.0 (X11; Linux x86_64; rv:48.0) Gecko/20100101 Firefox/48.0'),\n",
       " Row(content_size=193, cookie_user=u'\\\\x22rohith.reddy@customercentria.com\\\\x22', end_point=u'/product1', http_status_code=u'200', ip_address=u'127.0.0.1', protocol=u'HTTP/1.1', referer=u'http://localhost:8090/', remote_user=u'-', request_type=u'GET', time_stamp=u'25/May/2016:17:17:25 +0530', user_agent=u'Mozilla/5.0 (X11; Linux x86_64; rv:48.0) Gecko/20100101 Firefox/48.0')]"
      ]
     },
     "execution_count": 16,
     "metadata": {},
     "output_type": "execute_result"
    }
   ],
   "source": [
    "access_logs.take(5)"
   ]
  },
  {
   "cell_type": "code",
   "execution_count": 17,
   "metadata": {
    "collapsed": false
   },
   "outputs": [
    {
     "data": {
      "text/plain": [
       "pyspark.rdd.PipelinedRDD"
      ]
     },
     "execution_count": 17,
     "metadata": {},
     "output_type": "execute_result"
    }
   ],
   "source": [
    "type(access_logs)"
   ]
  },
  {
   "cell_type": "code",
   "execution_count": 18,
   "metadata": {
    "collapsed": true
   },
   "outputs": [],
   "source": [
    "logDf = access_logs.toDF()"
   ]
  },
  {
   "cell_type": "code",
   "execution_count": 19,
   "metadata": {
    "collapsed": false
   },
   "outputs": [
    {
     "data": {
      "text/plain": [
       "[Row(content_size=464, cookie_user=u'\\\\x22rohith.reddy@customercentria.com\\\\x22', end_point=u'/register', http_status_code=u'200', ip_address=u'127.0.0.1', protocol=u'HTTP/1.1', referer=u'http://localhost:8090/product3', remote_user=u'-', request_type=u'GET', time_stamp=u'25/May/2016:17:17:21 +0530', user_agent=u'Mozilla/5.0 (X11; Linux x86_64; rv:48.0) Gecko/20100101 Firefox/48.0'),\n",
       " Row(content_size=182, cookie_user=u'\\\\x22rohith.reddy@customercentria.com\\\\x22', end_point=u'/', http_status_code=u'200', ip_address=u'127.0.0.1', protocol=u'HTTP/1.1', referer=u'http://localhost:8090/register', remote_user=u'-', request_type=u'GET', time_stamp=u'25/May/2016:17:17:22 +0530', user_agent=u'Mozilla/5.0 (X11; Linux x86_64; rv:48.0) Gecko/20100101 Firefox/48.0'),\n",
       " Row(content_size=464, cookie_user=u'\\\\x22rohith.reddy@customercentria.com\\\\x22', end_point=u'/recharge', http_status_code=u'200', ip_address=u'127.0.0.1', protocol=u'HTTP/1.1', referer=u'http://localhost:8090/', remote_user=u'-', request_type=u'GET', time_stamp=u'25/May/2016:17:17:23 +0530', user_agent=u'Mozilla/5.0 (X11; Linux x86_64; rv:48.0) Gecko/20100101 Firefox/48.0'),\n",
       " Row(content_size=182, cookie_user=u'\\\\x22rohith.reddy@customercentria.com\\\\x22', end_point=u'/', http_status_code=u'200', ip_address=u'127.0.0.1', protocol=u'HTTP/1.1', referer=u'http://localhost:8090/recharge', remote_user=u'-', request_type=u'GET', time_stamp=u'25/May/2016:17:17:24 +0530', user_agent=u'Mozilla/5.0 (X11; Linux x86_64; rv:48.0) Gecko/20100101 Firefox/48.0'),\n",
       " Row(content_size=193, cookie_user=u'\\\\x22rohith.reddy@customercentria.com\\\\x22', end_point=u'/product1', http_status_code=u'200', ip_address=u'127.0.0.1', protocol=u'HTTP/1.1', referer=u'http://localhost:8090/', remote_user=u'-', request_type=u'GET', time_stamp=u'25/May/2016:17:17:25 +0530', user_agent=u'Mozilla/5.0 (X11; Linux x86_64; rv:48.0) Gecko/20100101 Firefox/48.0')]"
      ]
     },
     "execution_count": 19,
     "metadata": {},
     "output_type": "execute_result"
    }
   ],
   "source": [
    "logDf.take(5)"
   ]
  },
  {
   "cell_type": "code",
   "execution_count": 20,
   "metadata": {
    "collapsed": false
   },
   "outputs": [
    {
     "data": {
      "text/plain": [
       "[Row(content_size=464, cookie_user=u'\\\\x22rohith.reddy@customercentria.com\\\\x22', end_point=u'/register', http_status_code=u'200', ip_address=u'127.0.0.1', protocol=u'HTTP/1.1', referer=u'http://localhost:8090/product3', remote_user=u'-', request_type=u'GET', time_stamp=u'25/May/2016:17:17:21 +0530', user_agent=u'Mozilla/5.0 (X11; Linux x86_64; rv:48.0) Gecko/20100101 Firefox/48.0'),\n",
       " Row(content_size=182, cookie_user=u'\\\\x22rohith.reddy@customercentria.com\\\\x22', end_point=u'/', http_status_code=u'200', ip_address=u'127.0.0.1', protocol=u'HTTP/1.1', referer=u'http://localhost:8090/register', remote_user=u'-', request_type=u'GET', time_stamp=u'25/May/2016:17:17:22 +0530', user_agent=u'Mozilla/5.0 (X11; Linux x86_64; rv:48.0) Gecko/20100101 Firefox/48.0'),\n",
       " Row(content_size=464, cookie_user=u'\\\\x22rohith.reddy@customercentria.com\\\\x22', end_point=u'/recharge', http_status_code=u'200', ip_address=u'127.0.0.1', protocol=u'HTTP/1.1', referer=u'http://localhost:8090/', remote_user=u'-', request_type=u'GET', time_stamp=u'25/May/2016:17:17:23 +0530', user_agent=u'Mozilla/5.0 (X11; Linux x86_64; rv:48.0) Gecko/20100101 Firefox/48.0'),\n",
       " Row(content_size=182, cookie_user=u'\\\\x22rohith.reddy@customercentria.com\\\\x22', end_point=u'/', http_status_code=u'200', ip_address=u'127.0.0.1', protocol=u'HTTP/1.1', referer=u'http://localhost:8090/recharge', remote_user=u'-', request_type=u'GET', time_stamp=u'25/May/2016:17:17:24 +0530', user_agent=u'Mozilla/5.0 (X11; Linux x86_64; rv:48.0) Gecko/20100101 Firefox/48.0'),\n",
       " Row(content_size=193, cookie_user=u'\\\\x22rohith.reddy@customercentria.com\\\\x22', end_point=u'/product1', http_status_code=u'200', ip_address=u'127.0.0.1', protocol=u'HTTP/1.1', referer=u'http://localhost:8090/', remote_user=u'-', request_type=u'GET', time_stamp=u'25/May/2016:17:17:25 +0530', user_agent=u'Mozilla/5.0 (X11; Linux x86_64; rv:48.0) Gecko/20100101 Firefox/48.0'),\n",
       " Row(content_size=193, cookie_user=u'\\\\x22rohith.reddy@customercentria.com\\\\x22', end_point=u'/product2', http_status_code=u'200', ip_address=u'127.0.0.1', protocol=u'HTTP/1.1', referer=u'http://localhost:8090/product1', remote_user=u'-', request_type=u'GET', time_stamp=u'25/May/2016:17:17:26 +0530', user_agent=u'Mozilla/5.0 (X11; Linux x86_64; rv:48.0) Gecko/20100101 Firefox/48.0'),\n",
       " Row(content_size=194, cookie_user=u'\\\\x22rohith.reddy@customercentria.com\\\\x22', end_point=u'/product3', http_status_code=u'200', ip_address=u'127.0.0.1', protocol=u'HTTP/1.1', referer=u'http://localhost:8090/product2', remote_user=u'-', request_type=u'GET', time_stamp=u'25/May/2016:17:17:27 +0530', user_agent=u'Mozilla/5.0 (X11; Linux x86_64; rv:48.0) Gecko/20100101 Firefox/48.0'),\n",
       " Row(content_size=409, cookie_user=u'\\\\x22rohith.reddy@customercentria.com\\\\x22', end_point=u'/login', http_status_code=u'200', ip_address=u'127.0.0.1', protocol=u'HTTP/1.1', referer=u'http://localhost:8090/product3', remote_user=u'-', request_type=u'GET', time_stamp=u'25/May/2016:17:17:28 +0530', user_agent=u'Mozilla/5.0 (X11; Linux x86_64; rv:48.0) Gecko/20100101 Firefox/48.0'),\n",
       " Row(content_size=209, cookie_user=u'\\\\x22rohith.reddy@customercentria.com\\\\x22', end_point=u'/login?next=', http_status_code=u'302', ip_address=u'127.0.0.1', protocol=u'HTTP/1.1', referer=u'http://localhost:8090/login', remote_user=u'-', request_type=u'POST', time_stamp=u'25/May/2016:17:17:30 +0530', user_agent=u'Mozilla/5.0 (X11; Linux x86_64; rv:48.0) Gecko/20100101 Firefox/48.0'),\n",
       " Row(content_size=289, cookie_user=u'\\\\x22rohith.reddy@customercentria.com\\\\x22', end_point=u'/', http_status_code=u'200', ip_address=u'127.0.0.1', protocol=u'HTTP/1.1', referer=u'http://localhost:8090/login', remote_user=u'-', request_type=u'GET', time_stamp=u'25/May/2016:17:17:30 +0530', user_agent=u'Mozilla/5.0 (X11; Linux x86_64; rv:48.0) Gecko/20100101 Firefox/48.0'),\n",
       " Row(content_size=193, cookie_user=u'\\\\x22rohith.reddy@customercentria.com\\\\x22', end_point=u'/product2', http_status_code=u'200', ip_address=u'127.0.0.1', protocol=u'HTTP/1.1', referer=u'http://localhost:8090/', remote_user=u'-', request_type=u'GET', time_stamp=u'25/May/2016:17:22:30 +0530', user_agent=u'Mozilla/5.0 (X11; Linux x86_64; rv:48.0) Gecko/20100101 Firefox/48.0'),\n",
       " Row(content_size=464, cookie_user=u'\\\\x22rohith.reddy@customercentria.com\\\\x22', end_point=u'/recharge', http_status_code=u'200', ip_address=u'127.0.0.1', protocol=u'HTTP/1.1', referer=u'http://localhost:8090/product2', remote_user=u'-', request_type=u'GET', time_stamp=u'25/May/2016:17:22:31 +0530', user_agent=u'Mozilla/5.0 (X11; Linux x86_64; rv:48.0) Gecko/20100101 Firefox/48.0'),\n",
       " Row(content_size=182, cookie_user=u'\\\\x22rohith.reddy@customercentria.com\\\\x22', end_point=u'/', http_status_code=u'200', ip_address=u'127.0.0.1', protocol=u'HTTP/1.1', referer=u'http://localhost:8090/recharge', remote_user=u'-', request_type=u'GET', time_stamp=u'25/May/2016:17:22:33 +0530', user_agent=u'Mozilla/5.0 (X11; Linux x86_64; rv:48.0) Gecko/20100101 Firefox/48.0'),\n",
       " Row(content_size=409, cookie_user=u'\\\\x22rohith.reddy@customercentria.com\\\\x22', end_point=u'/login', http_status_code=u'200', ip_address=u'127.0.0.1', protocol=u'HTTP/1.1', referer=u'http://localhost:8090/', remote_user=u'-', request_type=u'GET', time_stamp=u'25/May/2016:17:22:34 +0530', user_agent=u'Mozilla/5.0 (X11; Linux x86_64; rv:48.0) Gecko/20100101 Firefox/48.0'),\n",
       " Row(content_size=209, cookie_user=u'\\\\x22rohith.reddy@customercentria.com\\\\x22', end_point=u'/login?next=', http_status_code=u'302', ip_address=u'127.0.0.1', protocol=u'HTTP/1.1', referer=u'http://localhost:8090/login', remote_user=u'-', request_type=u'POST', time_stamp=u'25/May/2016:17:22:36 +0530', user_agent=u'Mozilla/5.0 (X11; Linux x86_64; rv:48.0) Gecko/20100101 Firefox/48.0'),\n",
       " Row(content_size=289, cookie_user=u'\\\\x22rohith.reddy@customercentria.com\\\\x22', end_point=u'/', http_status_code=u'200', ip_address=u'127.0.0.1', protocol=u'HTTP/1.1', referer=u'http://localhost:8090/login', remote_user=u'-', request_type=u'GET', time_stamp=u'25/May/2016:17:22:36 +0530', user_agent=u'Mozilla/5.0 (X11; Linux x86_64; rv:48.0) Gecko/20100101 Firefox/48.0'),\n",
       " Row(content_size=193, cookie_user=u'\\\\x22rohith.reddy@customercentria.com\\\\x22', end_point=u'/product2', http_status_code=u'200', ip_address=u'127.0.0.1', protocol=u'HTTP/1.1', referer=u'http://localhost:8090/', remote_user=u'-', request_type=u'GET', time_stamp=u'25/May/2016:17:25:55 +0530', user_agent=u'Mozilla/5.0 (X11; Linux x86_64; rv:48.0) Gecko/20100101 Firefox/48.0'),\n",
       " Row(content_size=194, cookie_user=u'\\\\x22rohith.reddy@customercentria.com\\\\x22', end_point=u'/product3', http_status_code=u'200', ip_address=u'127.0.0.1', protocol=u'HTTP/1.1', referer=u'http://localhost:8090/', remote_user=u'-', request_type=u'GET', time_stamp=u'25/May/2016:17:25:57 +0530', user_agent=u'Mozilla/5.0 (X11; Linux x86_64; rv:48.0) Gecko/20100101 Firefox/48.0'),\n",
       " Row(content_size=464, cookie_user=u'\\\\x22rohith.reddy@customercentria.com\\\\x22', end_point=u'/register', http_status_code=u'200', ip_address=u'127.0.0.1', protocol=u'HTTP/1.1', referer=u'http://localhost:8090/', remote_user=u'-', request_type=u'GET', time_stamp=u'25/May/2016:17:25:59 +0530', user_agent=u'Mozilla/5.0 (X11; Linux x86_64; rv:48.0) Gecko/20100101 Firefox/48.0'),\n",
       " Row(content_size=193, cookie_user=u'\\\\x22rohith.reddy@customercentria.com\\\\x22', end_point=u'/product1', http_status_code=u'200', ip_address=u'127.0.0.1', protocol=u'HTTP/1.1', referer=u'http://localhost:8090/', remote_user=u'-', request_type=u'GET', time_stamp=u'25/May/2016:17:26:01 +0530', user_agent=u'Mozilla/5.0 (X11; Linux x86_64; rv:48.0) Gecko/20100101 Firefox/48.0'),\n",
       " Row(content_size=464, cookie_user=u'\\\\x22rohith.reddy@customercentria.com\\\\x22', end_point=u'/recharge', http_status_code=u'200', ip_address=u'127.0.0.1', protocol=u'HTTP/1.1', referer=u'http://localhost:8090/', remote_user=u'-', request_type=u'GET', time_stamp=u'25/May/2016:17:40:20 +0530', user_agent=u'Mozilla/5.0 (X11; Linux x86_64; rv:48.0) Gecko/20100101 Firefox/48.0'),\n",
       " Row(content_size=182, cookie_user=u'\\\\x22rohith.reddy@customercentria.com\\\\x22', end_point=u'/', http_status_code=u'200', ip_address=u'127.0.0.1', protocol=u'HTTP/1.1', referer=u'http://localhost:8090/recharge', remote_user=u'-', request_type=u'GET', time_stamp=u'25/May/2016:17:40:22 +0530', user_agent=u'Mozilla/5.0 (X11; Linux x86_64; rv:48.0) Gecko/20100101 Firefox/48.0'),\n",
       " Row(content_size=464, cookie_user=u'\\\\x22rohith.reddy@customercentria.com\\\\x22', end_point=u'/register', http_status_code=u'200', ip_address=u'127.0.0.1', protocol=u'HTTP/1.1', referer=u'http://localhost:8090/', remote_user=u'-', request_type=u'GET', time_stamp=u'25/May/2016:17:40:23 +0530', user_agent=u'Mozilla/5.0 (X11; Linux x86_64; rv:48.0) Gecko/20100101 Firefox/48.0'),\n",
       " Row(content_size=514, cookie_user=u'\\\\x22rohith.reddy@customercentria.com\\\\x22', end_point=u'/register?next=', http_status_code=u'200', ip_address=u'127.0.0.1', protocol=u'HTTP/1.1', referer=u'http://localhost:8090/register', remote_user=u'-', request_type=u'POST', time_stamp=u'25/May/2016:17:40:45 +0530', user_agent=u'Mozilla/5.0 (X11; Linux x86_64; rv:48.0) Gecko/20100101 Firefox/48.0'),\n",
       " Row(content_size=209, cookie_user=u'\\\\x22rohith.reddy@customercentria.com\\\\x22', end_point=u'/login?next=', http_status_code=u'302', ip_address=u'127.0.0.1', protocol=u'HTTP/1.1', referer=u'http://localhost:8090/register?next=', remote_user=u'-', request_type=u'POST', time_stamp=u'25/May/2016:17:40:49 +0530', user_agent=u'Mozilla/5.0 (X11; Linux x86_64; rv:48.0) Gecko/20100101 Firefox/48.0'),\n",
       " Row(content_size=289, cookie_user=u'\\\\x22rohith.reddy@customercentria.com\\\\x22', end_point=u'/', http_status_code=u'200', ip_address=u'127.0.0.1', protocol=u'HTTP/1.1', referer=u'http://localhost:8090/register?next=', remote_user=u'-', request_type=u'GET', time_stamp=u'25/May/2016:17:40:49 +0530', user_agent=u'Mozilla/5.0 (X11; Linux x86_64; rv:48.0) Gecko/20100101 Firefox/48.0'),\n",
       " Row(content_size=464, cookie_user=u'\\\\x22rohith.reddy@customercentria.com\\\\x22', end_point=u'/register', http_status_code=u'200', ip_address=u'127.0.0.1', protocol=u'HTTP/1.1', referer=u'http://localhost:8090/', remote_user=u'-', request_type=u'GET', time_stamp=u'25/May/2016:17:40:50 +0530', user_agent=u'Mozilla/5.0 (X11; Linux x86_64; rv:48.0) Gecko/20100101 Firefox/48.0'),\n",
       " Row(content_size=182, cookie_user=u'\\\\x22rohith.reddy@customercentria.com\\\\x22', end_point=u'/', http_status_code=u'200', ip_address=u'127.0.0.1', protocol=u'HTTP/1.1', referer=u'http://localhost:8090/register', remote_user=u'-', request_type=u'GET', time_stamp=u'25/May/2016:17:40:52 +0530', user_agent=u'Mozilla/5.0 (X11; Linux x86_64; rv:48.0) Gecko/20100101 Firefox/48.0'),\n",
       " Row(content_size=193, cookie_user=u'\\\\x22rohith.reddy@customercentria.com\\\\x22', end_point=u'/product1', http_status_code=u'200', ip_address=u'127.0.0.1', protocol=u'HTTP/1.1', referer=u'http://localhost:8090/', remote_user=u'-', request_type=u'GET', time_stamp=u'25/May/2016:17:40:53 +0530', user_agent=u'Mozilla/5.0 (X11; Linux x86_64; rv:48.0) Gecko/20100101 Firefox/48.0'),\n",
       " Row(content_size=464, cookie_user=u'\\\\x22rohith.reddy@customercentria.com\\\\x22', end_point=u'/recharge', http_status_code=u'200', ip_address=u'127.0.0.1', protocol=u'HTTP/1.1', referer=u'http://localhost:8090/product1', remote_user=u'-', request_type=u'GET', time_stamp=u'25/May/2016:17:40:54 +0530', user_agent=u'Mozilla/5.0 (X11; Linux x86_64; rv:48.0) Gecko/20100101 Firefox/48.0'),\n",
       " Row(content_size=280, cookie_user=u'\\\\x22rohith.reddy@customercentria.com\\\\x22', end_point=u'/recharge?next=', http_status_code=u'200', ip_address=u'127.0.0.1', protocol=u'HTTP/1.1', referer=u'http://localhost:8090/recharge', remote_user=u'-', request_type=u'POST', time_stamp=u'25/May/2016:17:41:07 +0530', user_agent=u'Mozilla/5.0 (X11; Linux x86_64; rv:48.0) Gecko/20100101 Firefox/48.0'),\n",
       " Row(content_size=182, cookie_user=u'-', end_point=u'/', http_status_code=u'200', ip_address=u'127.0.0.1', protocol=u'HTTP/1.1', referer=u'-', remote_user=u'-', request_type=u'GET', time_stamp=u'26/May/2016:10:47:43 +0530', user_agent=u'Mozilla/5.0 (X11; Linux x86_64; rv:48.0) Gecko/20100101 Firefox/48.0'),\n",
       " Row(content_size=209, cookie_user=u'-', end_point=u'/favicon.ico', http_status_code=u'404', ip_address=u'127.0.0.1', protocol=u'HTTP/1.1', referer=u'-', remote_user=u'-', request_type=u'GET', time_stamp=u'26/May/2016:10:47:43 +0530', user_agent=u'Mozilla/5.0 (X11; Linux x86_64; rv:48.0) Gecko/20100101 Firefox/48.0'),\n",
       " Row(content_size=193, cookie_user=u'-', end_point=u'/product1', http_status_code=u'200', ip_address=u'127.0.0.1', protocol=u'HTTP/1.1', referer=u'http://localhost:8090/', remote_user=u'-', request_type=u'GET', time_stamp=u'26/May/2016:10:47:44 +0530', user_agent=u'Mozilla/5.0 (X11; Linux x86_64; rv:48.0) Gecko/20100101 Firefox/48.0'),\n",
       " Row(content_size=193, cookie_user=u'-', end_point=u'/product2', http_status_code=u'200', ip_address=u'127.0.0.1', protocol=u'HTTP/1.1', referer=u'http://localhost:8090/product1', remote_user=u'-', request_type=u'GET', time_stamp=u'26/May/2016:10:47:45 +0530', user_agent=u'Mozilla/5.0 (X11; Linux x86_64; rv:48.0) Gecko/20100101 Firefox/48.0'),\n",
       " Row(content_size=194, cookie_user=u'-', end_point=u'/product3', http_status_code=u'200', ip_address=u'127.0.0.1', protocol=u'HTTP/1.1', referer=u'http://localhost:8090/product2', remote_user=u'-', request_type=u'GET', time_stamp=u'26/May/2016:10:47:46 +0530', user_agent=u'Mozilla/5.0 (X11; Linux x86_64; rv:48.0) Gecko/20100101 Firefox/48.0'),\n",
       " Row(content_size=464, cookie_user=u'-', end_point=u'/register', http_status_code=u'200', ip_address=u'127.0.0.1', protocol=u'HTTP/1.1', referer=u'http://localhost:8090/product3', remote_user=u'-', request_type=u'GET', time_stamp=u'26/May/2016:10:47:47 +0530', user_agent=u'Mozilla/5.0 (X11; Linux x86_64; rv:48.0) Gecko/20100101 Firefox/48.0'),\n",
       " Row(content_size=508, cookie_user=u'-', end_point=u'/register?next=', http_status_code=u'200', ip_address=u'127.0.0.1', protocol=u'HTTP/1.1', referer=u'http://localhost:8090/register', remote_user=u'-', request_type=u'POST', time_stamp=u'26/May/2016:10:48:18 +0530', user_agent=u'Mozilla/5.0 (X11; Linux x86_64; rv:48.0) Gecko/20100101 Firefox/48.0'),\n",
       " Row(content_size=209, cookie_user=u'-', end_point=u'/login?next=', http_status_code=u'302', ip_address=u'127.0.0.1', protocol=u'HTTP/1.1', referer=u'http://localhost:8090/register?next=', remote_user=u'-', request_type=u'POST', time_stamp=u'26/May/2016:10:48:35 +0530', user_agent=u'Mozilla/5.0 (X11; Linux x86_64; rv:48.0) Gecko/20100101 Firefox/48.0'),\n",
       " Row(content_size=283, cookie_user=u'\\\\x22dinesh.dancer@gmail.com\\\\x22', end_point=u'/', http_status_code=u'200', ip_address=u'127.0.0.1', protocol=u'HTTP/1.1', referer=u'http://localhost:8090/register?next=', remote_user=u'-', request_type=u'GET', time_stamp=u'26/May/2016:10:48:35 +0530', user_agent=u'Mozilla/5.0 (X11; Linux x86_64; rv:48.0) Gecko/20100101 Firefox/48.0'),\n",
       " Row(content_size=464, cookie_user=u'\\\\x22dinesh.dancer@gmail.com\\\\x22', end_point=u'/register', http_status_code=u'200', ip_address=u'127.0.0.1', protocol=u'HTTP/1.1', referer=u'http://localhost:8090/', remote_user=u'-', request_type=u'GET', time_stamp=u'26/May/2016:10:48:39 +0530', user_agent=u'Mozilla/5.0 (X11; Linux x86_64; rv:48.0) Gecko/20100101 Firefox/48.0'),\n",
       " Row(content_size=182, cookie_user=u'\\\\x22dinesh.dancer@gmail.com\\\\x22', end_point=u'/', http_status_code=u'200', ip_address=u'127.0.0.1', protocol=u'HTTP/1.1', referer=u'http://localhost:8090/register', remote_user=u'-', request_type=u'GET', time_stamp=u'26/May/2016:10:48:40 +0530', user_agent=u'Mozilla/5.0 (X11; Linux x86_64; rv:48.0) Gecko/20100101 Firefox/48.0'),\n",
       " Row(content_size=464, cookie_user=u'\\\\x22dinesh.dancer@gmail.com\\\\x22', end_point=u'/recharge', http_status_code=u'200', ip_address=u'127.0.0.1', protocol=u'HTTP/1.1', referer=u'http://localhost:8090/', remote_user=u'-', request_type=u'GET', time_stamp=u'26/May/2016:10:48:41 +0530', user_agent=u'Mozilla/5.0 (X11; Linux x86_64; rv:48.0) Gecko/20100101 Firefox/48.0'),\n",
       " Row(content_size=279, cookie_user=u'\\\\x22dinesh.dancer@gmail.com\\\\x22', end_point=u'/recharge?next=', http_status_code=u'200', ip_address=u'127.0.0.1', protocol=u'HTTP/1.1', referer=u'http://localhost:8090/recharge', remote_user=u'-', request_type=u'POST', time_stamp=u'26/May/2016:10:48:58 +0530', user_agent=u'Mozilla/5.0 (X11; Linux x86_64; rv:48.0) Gecko/20100101 Firefox/48.0'),\n",
       " Row(content_size=181, cookie_user=u'\\\\x22dinesh.dancer@gmail.com\\\\x22', end_point=u'/', http_status_code=u'502', ip_address=u'127.0.0.1', protocol=u'HTTP/1.1', referer=u'-', remote_user=u'-', request_type=u'GET', time_stamp=u'26/May/2016:11:23:55 +0530', user_agent=u'Mozilla/5.0 (X11; Linux x86_64; rv:48.0) Gecko/20100101 Firefox/48.0'),\n",
       " Row(content_size=0, cookie_user=u'\\\\x22dinesh.dancer@gmail.com\\\\x22', end_point=u'/', http_status_code=u'499', ip_address=u'127.0.0.1', protocol=u'HTTP/1.1', referer=u'-', remote_user=u'-', request_type=u'GET', time_stamp=u'26/May/2016:11:23:57 +0530', user_agent=u'Mozilla/5.0 (X11; Linux x86_64; rv:48.0) Gecko/20100101 Firefox/48.0'),\n",
       " Row(content_size=182, cookie_user=u'\\\\x22dinesh.dancer@gmail.com\\\\x22', end_point=u'/', http_status_code=u'200', ip_address=u'127.0.0.1', protocol=u'HTTP/1.1', referer=u'-', remote_user=u'-', request_type=u'GET', time_stamp=u'26/May/2016:11:23:59 +0530', user_agent=u'Mozilla/5.0 (X11; Linux x86_64; rv:48.0) Gecko/20100101 Firefox/48.0'),\n",
       " Row(content_size=193, cookie_user=u'\\\\x22dinesh.dancer@gmail.com\\\\x22', end_point=u'/product1', http_status_code=u'200', ip_address=u'127.0.0.1', protocol=u'HTTP/1.1', referer=u'http://localhost:8090/', remote_user=u'-', request_type=u'GET', time_stamp=u'26/May/2016:11:24:00 +0530', user_agent=u'Mozilla/5.0 (X11; Linux x86_64; rv:48.0) Gecko/20100101 Firefox/48.0'),\n",
       " Row(content_size=464, cookie_user=u'\\\\x22dinesh.dancer@gmail.com\\\\x22', end_point=u'/recharge', http_status_code=u'200', ip_address=u'127.0.0.1', protocol=u'HTTP/1.1', referer=u'http://localhost:8090/product1', remote_user=u'-', request_type=u'GET', time_stamp=u'26/May/2016:11:24:02 +0530', user_agent=u'Mozilla/5.0 (X11; Linux x86_64; rv:48.0) Gecko/20100101 Firefox/48.0'),\n",
       " Row(content_size=182, cookie_user=u'\\\\x22dinesh.dancer@gmail.com\\\\x22', end_point=u'/', http_status_code=u'200', ip_address=u'127.0.0.1', protocol=u'HTTP/1.1', referer=u'http://localhost:8090/recharge', remote_user=u'-', request_type=u'GET', time_stamp=u'26/May/2016:11:24:03 +0530', user_agent=u'Mozilla/5.0 (X11; Linux x86_64; rv:48.0) Gecko/20100101 Firefox/48.0'),\n",
       " Row(content_size=464, cookie_user=u'\\\\x22dinesh.dancer@gmail.com\\\\x22', end_point=u'/register', http_status_code=u'200', ip_address=u'127.0.0.1', protocol=u'HTTP/1.1', referer=u'http://localhost:8090/', remote_user=u'-', request_type=u'GET', time_stamp=u'26/May/2016:11:24:04 +0530', user_agent=u'Mozilla/5.0 (X11; Linux x86_64; rv:48.0) Gecko/20100101 Firefox/48.0'),\n",
       " Row(content_size=182, cookie_user=u'\\\\x22dinesh.dancer@gmail.com\\\\x22', end_point=u'/', http_status_code=u'200', ip_address=u'127.0.0.1', protocol=u'HTTP/1.1', referer=u'http://localhost:8090/register', remote_user=u'-', request_type=u'GET', time_stamp=u'26/May/2016:11:24:06 +0530', user_agent=u'Mozilla/5.0 (X11; Linux x86_64; rv:48.0) Gecko/20100101 Firefox/48.0'),\n",
       " Row(content_size=259, cookie_user=u'\\\\x22dinesh.dancer@gmail.com\\\\x22', end_point=u'/logout', http_status_code=u'200', ip_address=u'127.0.0.1', protocol=u'HTTP/1.1', referer=u'http://localhost:8090/', remote_user=u'-', request_type=u'GET', time_stamp=u'26/May/2016:11:24:07 +0530', user_agent=u'Mozilla/5.0 (X11; Linux x86_64; rv:48.0) Gecko/20100101 Firefox/48.0'),\n",
       " Row(content_size=194, cookie_user=u'\\\\x22dinesh.dancer@gmail.com\\\\x22', end_point=u'/product3', http_status_code=u'200', ip_address=u'127.0.0.1', protocol=u'HTTP/1.1', referer=u'http://localhost:8090/logout', remote_user=u'-', request_type=u'GET', time_stamp=u'26/May/2016:11:24:09 +0530', user_agent=u'Mozilla/5.0 (X11; Linux x86_64; rv:48.0) Gecko/20100101 Firefox/48.0'),\n",
       " Row(content_size=409, cookie_user=u'\\\\x22dinesh.dancer@gmail.com\\\\x22', end_point=u'/login', http_status_code=u'200', ip_address=u'127.0.0.1', protocol=u'HTTP/1.1', referer=u'http://localhost:8090/product3', remote_user=u'-', request_type=u'GET', time_stamp=u'26/May/2016:11:24:10 +0530', user_agent=u'Mozilla/5.0 (X11; Linux x86_64; rv:48.0) Gecko/20100101 Firefox/48.0'),\n",
       " Row(content_size=209, cookie_user=u'\\\\x22dinesh.dancer@gmail.com\\\\x22', end_point=u'/login?next=', http_status_code=u'302', ip_address=u'127.0.0.1', protocol=u'HTTP/1.1', referer=u'http://localhost:8090/login', remote_user=u'-', request_type=u'POST', time_stamp=u'26/May/2016:11:24:14 +0530', user_agent=u'Mozilla/5.0 (X11; Linux x86_64; rv:48.0) Gecko/20100101 Firefox/48.0'),\n",
       " Row(content_size=289, cookie_user=u'\\\\x22rohith.reddy@customercentria.com\\\\x22', end_point=u'/', http_status_code=u'200', ip_address=u'127.0.0.1', protocol=u'HTTP/1.1', referer=u'http://localhost:8090/login', remote_user=u'-', request_type=u'GET', time_stamp=u'26/May/2016:11:24:14 +0530', user_agent=u'Mozilla/5.0 (X11; Linux x86_64; rv:48.0) Gecko/20100101 Firefox/48.0'),\n",
       " Row(content_size=464, cookie_user=u'\\\\x22rohith.reddy@customercentria.com\\\\x22', end_point=u'/recharge', http_status_code=u'200', ip_address=u'127.0.0.1', protocol=u'HTTP/1.1', referer=u'http://localhost:8090/', remote_user=u'-', request_type=u'GET', time_stamp=u'26/May/2016:11:24:15 +0530', user_agent=u'Mozilla/5.0 (X11; Linux x86_64; rv:48.0) Gecko/20100101 Firefox/48.0'),\n",
       " Row(content_size=182, cookie_user=u'\\\\x22rohith.reddy@customercentria.com\\\\x22', end_point=u'/', http_status_code=u'200', ip_address=u'127.0.0.1', protocol=u'HTTP/1.1', referer=u'http://localhost:8090/recharge', remote_user=u'-', request_type=u'GET', time_stamp=u'26/May/2016:11:24:16 +0530', user_agent=u'Mozilla/5.0 (X11; Linux x86_64; rv:48.0) Gecko/20100101 Firefox/48.0'),\n",
       " Row(content_size=464, cookie_user=u'\\\\x22rohith.reddy@customercentria.com\\\\x22', end_point=u'/register', http_status_code=u'200', ip_address=u'127.0.0.1', protocol=u'HTTP/1.1', referer=u'http://localhost:8090/', remote_user=u'-', request_type=u'GET', time_stamp=u'26/May/2016:11:24:17 +0530', user_agent=u'Mozilla/5.0 (X11; Linux x86_64; rv:48.0) Gecko/20100101 Firefox/48.0'),\n",
       " Row(content_size=182, cookie_user=u'\\\\x22rohith.reddy@customercentria.com\\\\x22', end_point=u'/', http_status_code=u'200', ip_address=u'127.0.0.1', protocol=u'HTTP/1.1', referer=u'http://localhost:8090/register', remote_user=u'-', request_type=u'GET', time_stamp=u'26/May/2016:11:24:19 +0530', user_agent=u'Mozilla/5.0 (X11; Linux x86_64; rv:48.0) Gecko/20100101 Firefox/48.0'),\n",
       " Row(content_size=193, cookie_user=u'\\\\x22rohith.reddy@customercentria.com\\\\x22', end_point=u'/product2', http_status_code=u'200', ip_address=u'127.0.0.1', protocol=u'HTTP/1.1', referer=u'http://localhost:8090/', remote_user=u'-', request_type=u'GET', time_stamp=u'26/May/2016:11:24:20 +0530', user_agent=u'Mozilla/5.0 (X11; Linux x86_64; rv:48.0) Gecko/20100101 Firefox/48.0'),\n",
       " Row(content_size=193, cookie_user=u'\\\\x22rohith.reddy@customercentria.com\\\\x22', end_point=u'/product1', http_status_code=u'200', ip_address=u'127.0.0.1', protocol=u'HTTP/1.1', referer=u'http://localhost:8090/product2', remote_user=u'-', request_type=u'GET', time_stamp=u'26/May/2016:11:24:23 +0530', user_agent=u'Mozilla/5.0 (X11; Linux x86_64; rv:48.0) Gecko/20100101 Firefox/48.0'),\n",
       " Row(content_size=182, cookie_user=u'-', end_point=u'/', http_status_code=u'200', ip_address=u'127.0.0.1', protocol=u'HTTP/1.1', referer=u'-', remote_user=u'-', request_type=u'GET', time_stamp=u'26/May/2016:16:29:00 +0530', user_agent=u'Mozilla/5.0 (X11; Linux x86_64; rv:48.0) Gecko/20100101 Firefox/48.0'),\n",
       " Row(content_size=409, cookie_user=u'-', end_point=u'/login', http_status_code=u'200', ip_address=u'127.0.0.1', protocol=u'HTTP/1.1', referer=u'http://localhost:8090/', remote_user=u'-', request_type=u'GET', time_stamp=u'26/May/2016:16:29:04 +0530', user_agent=u'Mozilla/5.0 (X11; Linux x86_64; rv:48.0) Gecko/20100101 Firefox/48.0'),\n",
       " Row(content_size=209, cookie_user=u'-', end_point=u'/login?next=', http_status_code=u'302', ip_address=u'127.0.0.1', protocol=u'HTTP/1.1', referer=u'http://localhost:8090/login', remote_user=u'-', request_type=u'POST', time_stamp=u'26/May/2016:16:29:08 +0530', user_agent=u'Mozilla/5.0 (X11; Linux x86_64; rv:48.0) Gecko/20100101 Firefox/48.0'),\n",
       " Row(content_size=289, cookie_user=u'\\\\x22rohith.reddy@customercentria.com\\\\x22', end_point=u'/', http_status_code=u'200', ip_address=u'127.0.0.1', protocol=u'HTTP/1.1', referer=u'http://localhost:8090/login', remote_user=u'-', request_type=u'GET', time_stamp=u'26/May/2016:16:29:08 +0530', user_agent=u'Mozilla/5.0 (X11; Linux x86_64; rv:48.0) Gecko/20100101 Firefox/48.0'),\n",
       " Row(content_size=194, cookie_user=u'\\\\x22rohith.reddy@customercentria.com\\\\x22', end_point=u'/product3', http_status_code=u'200', ip_address=u'127.0.0.1', protocol=u'HTTP/1.1', referer=u'http://localhost:8090/', remote_user=u'-', request_type=u'GET', time_stamp=u'26/May/2016:16:29:11 +0530', user_agent=u'Mozilla/5.0 (X11; Linux x86_64; rv:48.0) Gecko/20100101 Firefox/48.0'),\n",
       " Row(content_size=193, cookie_user=u'\\\\x22rohith.reddy@customercentria.com\\\\x22', end_point=u'/product2', http_status_code=u'200', ip_address=u'127.0.0.1', protocol=u'HTTP/1.1', referer=u'http://localhost:8090/product3', remote_user=u'-', request_type=u'GET', time_stamp=u'26/May/2016:16:29:12 +0530', user_agent=u'Mozilla/5.0 (X11; Linux x86_64; rv:48.0) Gecko/20100101 Firefox/48.0'),\n",
       " Row(content_size=193, cookie_user=u'\\\\x22rohith.reddy@customercentria.com\\\\x22', end_point=u'/product1', http_status_code=u'200', ip_address=u'127.0.0.1', protocol=u'HTTP/1.1', referer=u'http://localhost:8090/product2', remote_user=u'-', request_type=u'GET', time_stamp=u'26/May/2016:16:29:13 +0530', user_agent=u'Mozilla/5.0 (X11; Linux x86_64; rv:48.0) Gecko/20100101 Firefox/48.0'),\n",
       " Row(content_size=464, cookie_user=u'\\\\x22rohith.reddy@customercentria.com\\\\x22', end_point=u'/recharge', http_status_code=u'200', ip_address=u'127.0.0.1', protocol=u'HTTP/1.1', referer=u'http://localhost:8090/product1', remote_user=u'-', request_type=u'GET', time_stamp=u'26/May/2016:16:29:14 +0530', user_agent=u'Mozilla/5.0 (X11; Linux x86_64; rv:48.0) Gecko/20100101 Firefox/48.0'),\n",
       " Row(content_size=279, cookie_user=u'\\\\x22rohith.reddy@customercentria.com\\\\x22', end_point=u'/recharge?next=', http_status_code=u'200', ip_address=u'127.0.0.1', protocol=u'HTTP/1.1', referer=u'http://localhost:8090/recharge', remote_user=u'-', request_type=u'POST', time_stamp=u'26/May/2016:16:29:32 +0530', user_agent=u'Mozilla/5.0 (X11; Linux x86_64; rv:48.0) Gecko/20100101 Firefox/48.0')]"
      ]
     },
     "execution_count": 20,
     "metadata": {},
     "output_type": "execute_result"
    }
   ],
   "source": [
    "logDf.collect()"
   ]
  },
  {
   "cell_type": "code",
   "execution_count": 21,
   "metadata": {
    "collapsed": false
   },
   "outputs": [
    {
     "data": {
      "text/plain": [
       "['__class__',\n",
       " '__delattr__',\n",
       " '__dict__',\n",
       " '__doc__',\n",
       " '__format__',\n",
       " '__getattr__',\n",
       " '__getattribute__',\n",
       " '__getitem__',\n",
       " '__hash__',\n",
       " '__init__',\n",
       " '__module__',\n",
       " '__new__',\n",
       " '__reduce__',\n",
       " '__reduce_ex__',\n",
       " '__repr__',\n",
       " '__setattr__',\n",
       " '__sizeof__',\n",
       " '__str__',\n",
       " '__subclasshook__',\n",
       " '__weakref__',\n",
       " '_jcols',\n",
       " '_jdf',\n",
       " '_jmap',\n",
       " '_jseq',\n",
       " '_lazy_rdd',\n",
       " '_sc',\n",
       " '_schema',\n",
       " '_sort_cols',\n",
       " 'agg',\n",
       " 'alias',\n",
       " 'cache',\n",
       " 'coalesce',\n",
       " 'collect',\n",
       " 'columns',\n",
       " 'corr',\n",
       " 'count',\n",
       " 'cov',\n",
       " 'crosstab',\n",
       " 'cube',\n",
       " 'describe',\n",
       " 'distinct',\n",
       " 'drop',\n",
       " 'dropDuplicates',\n",
       " 'drop_duplicates',\n",
       " 'dropna',\n",
       " 'dtypes',\n",
       " 'explain',\n",
       " 'fillna',\n",
       " 'filter',\n",
       " 'first',\n",
       " 'flatMap',\n",
       " 'foreach',\n",
       " 'foreachPartition',\n",
       " 'freqItems',\n",
       " 'groupBy',\n",
       " 'groupby',\n",
       " 'head',\n",
       " 'insertInto',\n",
       " 'intersect',\n",
       " 'isLocal',\n",
       " 'is_cached',\n",
       " 'join',\n",
       " 'limit',\n",
       " 'map',\n",
       " 'mapPartitions',\n",
       " 'na',\n",
       " 'orderBy',\n",
       " 'persist',\n",
       " 'printSchema',\n",
       " 'randomSplit',\n",
       " 'rdd',\n",
       " 'registerAsTable',\n",
       " 'registerTempTable',\n",
       " 'repartition',\n",
       " 'replace',\n",
       " 'rollup',\n",
       " 'sample',\n",
       " 'sampleBy',\n",
       " 'save',\n",
       " 'saveAsParquetFile',\n",
       " 'saveAsTable',\n",
       " 'schema',\n",
       " 'select',\n",
       " 'selectExpr',\n",
       " 'show',\n",
       " 'sort',\n",
       " 'sortWithinPartitions',\n",
       " 'sql_ctx',\n",
       " 'stat',\n",
       " 'subtract',\n",
       " 'take',\n",
       " 'toDF',\n",
       " 'toJSON',\n",
       " 'toPandas',\n",
       " 'unionAll',\n",
       " 'unpersist',\n",
       " 'where',\n",
       " 'withColumn',\n",
       " 'withColumnRenamed',\n",
       " 'write']"
      ]
     },
     "execution_count": 21,
     "metadata": {},
     "output_type": "execute_result"
    }
   ],
   "source": [
    "dir(logDf)"
   ]
  },
  {
   "cell_type": "code",
   "execution_count": 22,
   "metadata": {
    "collapsed": false
   },
   "outputs": [
    {
     "name": "stdout",
     "output_type": "stream",
     "text": [
      "root\n",
      " |-- content_size: long (nullable = true)\n",
      " |-- cookie_user: string (nullable = true)\n",
      " |-- end_point: string (nullable = true)\n",
      " |-- http_status_code: string (nullable = true)\n",
      " |-- ip_address: string (nullable = true)\n",
      " |-- protocol: string (nullable = true)\n",
      " |-- referer: string (nullable = true)\n",
      " |-- remote_user: string (nullable = true)\n",
      " |-- request_type: string (nullable = true)\n",
      " |-- time_stamp: string (nullable = true)\n",
      " |-- user_agent: string (nullable = true)\n",
      "\n"
     ]
    }
   ],
   "source": [
    "logDf.printSchema()"
   ]
  },
  {
   "cell_type": "code",
   "execution_count": 25,
   "metadata": {
    "collapsed": false
   },
   "outputs": [
    {
     "ename": "Py4JJavaError",
     "evalue": "An error occurred while calling o278.json.\n: org.apache.hadoop.ipc.RemoteException(org.apache.hadoop.hdfs.server.namenode.SafeModeException): Cannot create directory /user/rohith/save/_temporary/0. Name node is in safe mode.\nThe reported blocks 0 needs additional 19 blocks to reach the threshold 0.9990 of total blocks 19.\nThe number of live datanodes 1 has reached the minimum number 0. Safe mode will be turned off automatically once the thresholds have been reached.\n\tat org.apache.hadoop.hdfs.server.namenode.FSNamesystem.checkNameNodeSafeMode(FSNamesystem.java:1327)\n\tat org.apache.hadoop.hdfs.server.namenode.FSNamesystem.mkdirs(FSNamesystem.java:3893)\n\tat org.apache.hadoop.hdfs.server.namenode.NameNodeRpcServer.mkdirs(NameNodeRpcServer.java:983)\n\tat org.apache.hadoop.hdfs.protocolPB.ClientNamenodeProtocolServerSideTranslatorPB.mkdirs(ClientNamenodeProtocolServerSideTranslatorPB.java:622)\n\tat org.apache.hadoop.hdfs.protocol.proto.ClientNamenodeProtocolProtos$ClientNamenodeProtocol$2.callBlockingMethod(ClientNamenodeProtocolProtos.java)\n\tat org.apache.hadoop.ipc.ProtobufRpcEngine$Server$ProtoBufRpcInvoker.call(ProtobufRpcEngine.java:616)\n\tat org.apache.hadoop.ipc.RPC$Server.call(RPC.java:969)\n\tat org.apache.hadoop.ipc.Server$Handler$1.run(Server.java:2049)\n\tat org.apache.hadoop.ipc.Server$Handler$1.run(Server.java:2045)\n\tat java.security.AccessController.doPrivileged(Native Method)\n\tat javax.security.auth.Subject.doAs(Subject.java:422)\n\tat org.apache.hadoop.security.UserGroupInformation.doAs(UserGroupInformation.java:1657)\n\tat org.apache.hadoop.ipc.Server$Handler.run(Server.java:2043)\n\n\tat org.apache.hadoop.ipc.Client.call(Client.java:1475)\n\tat org.apache.hadoop.ipc.Client.call(Client.java:1412)\n\tat org.apache.hadoop.ipc.ProtobufRpcEngine$Invoker.invoke(ProtobufRpcEngine.java:229)\n\tat com.sun.proxy.$Proxy20.mkdirs(Unknown Source)\n\tat org.apache.hadoop.hdfs.protocolPB.ClientNamenodeProtocolTranslatorPB.mkdirs(ClientNamenodeProtocolTranslatorPB.java:558)\n\tat sun.reflect.NativeMethodAccessorImpl.invoke0(Native Method)\n\tat sun.reflect.NativeMethodAccessorImpl.invoke(NativeMethodAccessorImpl.java:62)\n\tat sun.reflect.DelegatingMethodAccessorImpl.invoke(DelegatingMethodAccessorImpl.java:43)\n\tat java.lang.reflect.Method.invoke(Method.java:497)\n\tat org.apache.hadoop.io.retry.RetryInvocationHandler.invokeMethod(RetryInvocationHandler.java:191)\n\tat org.apache.hadoop.io.retry.RetryInvocationHandler.invoke(RetryInvocationHandler.java:102)\n\tat com.sun.proxy.$Proxy21.mkdirs(Unknown Source)\n\tat org.apache.hadoop.hdfs.DFSClient.primitiveMkdir(DFSClient.java:3000)\n\tat org.apache.hadoop.hdfs.DFSClient.mkdirs(DFSClient.java:2970)\n\tat org.apache.hadoop.hdfs.DistributedFileSystem$21.doCall(DistributedFileSystem.java:1047)\n\tat org.apache.hadoop.hdfs.DistributedFileSystem$21.doCall(DistributedFileSystem.java:1043)\n\tat org.apache.hadoop.fs.FileSystemLinkResolver.resolve(FileSystemLinkResolver.java:81)\n\tat org.apache.hadoop.hdfs.DistributedFileSystem.mkdirsInternal(DistributedFileSystem.java:1043)\n\tat org.apache.hadoop.hdfs.DistributedFileSystem.mkdirs(DistributedFileSystem.java:1036)\n\tat org.apache.hadoop.fs.FileSystem.mkdirs(FileSystem.java:1877)\n\tat org.apache.hadoop.mapreduce.lib.output.FileOutputCommitter.setupJob(FileOutputCommitter.java:305)\n\tat org.apache.spark.sql.execution.datasources.BaseWriterContainer.driverSideSetup(WriterContainer.scala:108)\n\tat org.apache.spark.sql.execution.datasources.InsertIntoHadoopFsRelation$$anonfun$run$1.apply$mcV$sp(InsertIntoHadoopFsRelation.scala:147)\n\tat org.apache.spark.sql.execution.datasources.InsertIntoHadoopFsRelation$$anonfun$run$1.apply(InsertIntoHadoopFsRelation.scala:108)\n\tat org.apache.spark.sql.execution.datasources.InsertIntoHadoopFsRelation$$anonfun$run$1.apply(InsertIntoHadoopFsRelation.scala:108)\n\tat org.apache.spark.sql.execution.SQLExecution$.withNewExecutionId(SQLExecution.scala:56)\n\tat org.apache.spark.sql.execution.datasources.InsertIntoHadoopFsRelation.run(InsertIntoHadoopFsRelation.scala:108)\n\tat org.apache.spark.sql.execution.ExecutedCommand.sideEffectResult$lzycompute(commands.scala:58)\n\tat org.apache.spark.sql.execution.ExecutedCommand.sideEffectResult(commands.scala:56)\n\tat org.apache.spark.sql.execution.ExecutedCommand.doExecute(commands.scala:70)\n\tat org.apache.spark.sql.execution.SparkPlan$$anonfun$execute$5.apply(SparkPlan.scala:132)\n\tat org.apache.spark.sql.execution.SparkPlan$$anonfun$execute$5.apply(SparkPlan.scala:130)\n\tat org.apache.spark.rdd.RDDOperationScope$.withScope(RDDOperationScope.scala:150)\n\tat org.apache.spark.sql.execution.SparkPlan.execute(SparkPlan.scala:130)\n\tat org.apache.spark.sql.execution.QueryExecution.toRdd$lzycompute(QueryExecution.scala:55)\n\tat org.apache.spark.sql.execution.QueryExecution.toRdd(QueryExecution.scala:55)\n\tat org.apache.spark.sql.execution.datasources.ResolvedDataSource$.apply(ResolvedDataSource.scala:256)\n\tat org.apache.spark.sql.DataFrameWriter.save(DataFrameWriter.scala:148)\n\tat org.apache.spark.sql.DataFrameWriter.save(DataFrameWriter.scala:139)\n\tat org.apache.spark.sql.DataFrameWriter.json(DataFrameWriter.scala:323)\n\tat sun.reflect.NativeMethodAccessorImpl.invoke0(Native Method)\n\tat sun.reflect.NativeMethodAccessorImpl.invoke(NativeMethodAccessorImpl.java:62)\n\tat sun.reflect.DelegatingMethodAccessorImpl.invoke(DelegatingMethodAccessorImpl.java:43)\n\tat java.lang.reflect.Method.invoke(Method.java:497)\n\tat py4j.reflection.MethodInvoker.invoke(MethodInvoker.java:231)\n\tat py4j.reflection.ReflectionEngine.invoke(ReflectionEngine.java:381)\n\tat py4j.Gateway.invoke(Gateway.java:259)\n\tat py4j.commands.AbstractCommand.invokeMethod(AbstractCommand.java:133)\n\tat py4j.commands.CallCommand.execute(CallCommand.java:79)\n\tat py4j.GatewayConnection.run(GatewayConnection.java:209)\n\tat java.lang.Thread.run(Thread.java:745)\n",
     "output_type": "error",
     "traceback": [
      "\u001b[1;31m---------------------------------------------------------------------------\u001b[0m",
      "\u001b[1;31mPy4JJavaError\u001b[0m                             Traceback (most recent call last)",
      "\u001b[1;32m<ipython-input-25-99e398c7936a>\u001b[0m in \u001b[0;36m<module>\u001b[1;34m()\u001b[0m\n\u001b[1;32m----> 1\u001b[1;33m \u001b[0mlogDf\u001b[0m\u001b[1;33m.\u001b[0m\u001b[0mwrite\u001b[0m\u001b[1;33m.\u001b[0m\u001b[0mjson\u001b[0m\u001b[1;33m(\u001b[0m\u001b[1;34m\"save\"\u001b[0m\u001b[1;33m)\u001b[0m\u001b[1;33m\u001b[0m\u001b[0m\n\u001b[0m",
      "\u001b[1;32m/home/rohith/work/spark-1.6.1-bin-without-hadoop/python/pyspark/sql/readwriter.pyc\u001b[0m in \u001b[0;36mjson\u001b[1;34m(self, path, mode)\u001b[0m\n\u001b[0;32m    449\u001b[0m         \u001b[1;33m>>\u001b[0m\u001b[1;33m>\u001b[0m \u001b[0mdf\u001b[0m\u001b[1;33m.\u001b[0m\u001b[0mwrite\u001b[0m\u001b[1;33m.\u001b[0m\u001b[0mjson\u001b[0m\u001b[1;33m(\u001b[0m\u001b[0mos\u001b[0m\u001b[1;33m.\u001b[0m\u001b[0mpath\u001b[0m\u001b[1;33m.\u001b[0m\u001b[0mjoin\u001b[0m\u001b[1;33m(\u001b[0m\u001b[0mtempfile\u001b[0m\u001b[1;33m.\u001b[0m\u001b[0mmkdtemp\u001b[0m\u001b[1;33m(\u001b[0m\u001b[1;33m)\u001b[0m\u001b[1;33m,\u001b[0m \u001b[1;34m'data'\u001b[0m\u001b[1;33m)\u001b[0m\u001b[1;33m)\u001b[0m\u001b[1;33m\u001b[0m\u001b[0m\n\u001b[0;32m    450\u001b[0m         \"\"\"\n\u001b[1;32m--> 451\u001b[1;33m         \u001b[0mself\u001b[0m\u001b[1;33m.\u001b[0m\u001b[0mmode\u001b[0m\u001b[1;33m(\u001b[0m\u001b[0mmode\u001b[0m\u001b[1;33m)\u001b[0m\u001b[1;33m.\u001b[0m\u001b[0m_jwrite\u001b[0m\u001b[1;33m.\u001b[0m\u001b[0mjson\u001b[0m\u001b[1;33m(\u001b[0m\u001b[0mpath\u001b[0m\u001b[1;33m)\u001b[0m\u001b[1;33m\u001b[0m\u001b[0m\n\u001b[0m\u001b[0;32m    452\u001b[0m \u001b[1;33m\u001b[0m\u001b[0m\n\u001b[0;32m    453\u001b[0m     \u001b[1;33m@\u001b[0m\u001b[0msince\u001b[0m\u001b[1;33m(\u001b[0m\u001b[1;36m1.4\u001b[0m\u001b[1;33m)\u001b[0m\u001b[1;33m\u001b[0m\u001b[0m\n",
      "\u001b[1;32m/home/rohith/work/spark-1.6.1-bin-without-hadoop/python/lib/py4j-0.9-src.zip/py4j/java_gateway.py\u001b[0m in \u001b[0;36m__call__\u001b[1;34m(self, *args)\u001b[0m\n\u001b[0;32m    811\u001b[0m         \u001b[0manswer\u001b[0m \u001b[1;33m=\u001b[0m \u001b[0mself\u001b[0m\u001b[1;33m.\u001b[0m\u001b[0mgateway_client\u001b[0m\u001b[1;33m.\u001b[0m\u001b[0msend_command\u001b[0m\u001b[1;33m(\u001b[0m\u001b[0mcommand\u001b[0m\u001b[1;33m)\u001b[0m\u001b[1;33m\u001b[0m\u001b[0m\n\u001b[0;32m    812\u001b[0m         return_value = get_return_value(\n\u001b[1;32m--> 813\u001b[1;33m             answer, self.gateway_client, self.target_id, self.name)\n\u001b[0m\u001b[0;32m    814\u001b[0m \u001b[1;33m\u001b[0m\u001b[0m\n\u001b[0;32m    815\u001b[0m         \u001b[1;32mfor\u001b[0m \u001b[0mtemp_arg\u001b[0m \u001b[1;32min\u001b[0m \u001b[0mtemp_args\u001b[0m\u001b[1;33m:\u001b[0m\u001b[1;33m\u001b[0m\u001b[0m\n",
      "\u001b[1;32m/home/rohith/work/spark-1.6.1-bin-without-hadoop/python/pyspark/sql/utils.pyc\u001b[0m in \u001b[0;36mdeco\u001b[1;34m(*a, **kw)\u001b[0m\n\u001b[0;32m     43\u001b[0m     \u001b[1;32mdef\u001b[0m \u001b[0mdeco\u001b[0m\u001b[1;33m(\u001b[0m\u001b[1;33m*\u001b[0m\u001b[0ma\u001b[0m\u001b[1;33m,\u001b[0m \u001b[1;33m**\u001b[0m\u001b[0mkw\u001b[0m\u001b[1;33m)\u001b[0m\u001b[1;33m:\u001b[0m\u001b[1;33m\u001b[0m\u001b[0m\n\u001b[0;32m     44\u001b[0m         \u001b[1;32mtry\u001b[0m\u001b[1;33m:\u001b[0m\u001b[1;33m\u001b[0m\u001b[0m\n\u001b[1;32m---> 45\u001b[1;33m             \u001b[1;32mreturn\u001b[0m \u001b[0mf\u001b[0m\u001b[1;33m(\u001b[0m\u001b[1;33m*\u001b[0m\u001b[0ma\u001b[0m\u001b[1;33m,\u001b[0m \u001b[1;33m**\u001b[0m\u001b[0mkw\u001b[0m\u001b[1;33m)\u001b[0m\u001b[1;33m\u001b[0m\u001b[0m\n\u001b[0m\u001b[0;32m     46\u001b[0m         \u001b[1;32mexcept\u001b[0m \u001b[0mpy4j\u001b[0m\u001b[1;33m.\u001b[0m\u001b[0mprotocol\u001b[0m\u001b[1;33m.\u001b[0m\u001b[0mPy4JJavaError\u001b[0m \u001b[1;32mas\u001b[0m \u001b[0me\u001b[0m\u001b[1;33m:\u001b[0m\u001b[1;33m\u001b[0m\u001b[0m\n\u001b[0;32m     47\u001b[0m             \u001b[0ms\u001b[0m \u001b[1;33m=\u001b[0m \u001b[0me\u001b[0m\u001b[1;33m.\u001b[0m\u001b[0mjava_exception\u001b[0m\u001b[1;33m.\u001b[0m\u001b[0mtoString\u001b[0m\u001b[1;33m(\u001b[0m\u001b[1;33m)\u001b[0m\u001b[1;33m\u001b[0m\u001b[0m\n",
      "\u001b[1;32m/home/rohith/work/spark-1.6.1-bin-without-hadoop/python/lib/py4j-0.9-src.zip/py4j/protocol.py\u001b[0m in \u001b[0;36mget_return_value\u001b[1;34m(answer, gateway_client, target_id, name)\u001b[0m\n\u001b[0;32m    306\u001b[0m                 raise Py4JJavaError(\n\u001b[0;32m    307\u001b[0m                     \u001b[1;34m\"An error occurred while calling {0}{1}{2}.\\n\"\u001b[0m\u001b[1;33m.\u001b[0m\u001b[1;33m\u001b[0m\u001b[0m\n\u001b[1;32m--> 308\u001b[1;33m                     format(target_id, \".\", name), value)\n\u001b[0m\u001b[0;32m    309\u001b[0m             \u001b[1;32melse\u001b[0m\u001b[1;33m:\u001b[0m\u001b[1;33m\u001b[0m\u001b[0m\n\u001b[0;32m    310\u001b[0m                 raise Py4JError(\n",
      "\u001b[1;31mPy4JJavaError\u001b[0m: An error occurred while calling o278.json.\n: org.apache.hadoop.ipc.RemoteException(org.apache.hadoop.hdfs.server.namenode.SafeModeException): Cannot create directory /user/rohith/save/_temporary/0. Name node is in safe mode.\nThe reported blocks 0 needs additional 19 blocks to reach the threshold 0.9990 of total blocks 19.\nThe number of live datanodes 1 has reached the minimum number 0. Safe mode will be turned off automatically once the thresholds have been reached.\n\tat org.apache.hadoop.hdfs.server.namenode.FSNamesystem.checkNameNodeSafeMode(FSNamesystem.java:1327)\n\tat org.apache.hadoop.hdfs.server.namenode.FSNamesystem.mkdirs(FSNamesystem.java:3893)\n\tat org.apache.hadoop.hdfs.server.namenode.NameNodeRpcServer.mkdirs(NameNodeRpcServer.java:983)\n\tat org.apache.hadoop.hdfs.protocolPB.ClientNamenodeProtocolServerSideTranslatorPB.mkdirs(ClientNamenodeProtocolServerSideTranslatorPB.java:622)\n\tat org.apache.hadoop.hdfs.protocol.proto.ClientNamenodeProtocolProtos$ClientNamenodeProtocol$2.callBlockingMethod(ClientNamenodeProtocolProtos.java)\n\tat org.apache.hadoop.ipc.ProtobufRpcEngine$Server$ProtoBufRpcInvoker.call(ProtobufRpcEngine.java:616)\n\tat org.apache.hadoop.ipc.RPC$Server.call(RPC.java:969)\n\tat org.apache.hadoop.ipc.Server$Handler$1.run(Server.java:2049)\n\tat org.apache.hadoop.ipc.Server$Handler$1.run(Server.java:2045)\n\tat java.security.AccessController.doPrivileged(Native Method)\n\tat javax.security.auth.Subject.doAs(Subject.java:422)\n\tat org.apache.hadoop.security.UserGroupInformation.doAs(UserGroupInformation.java:1657)\n\tat org.apache.hadoop.ipc.Server$Handler.run(Server.java:2043)\n\n\tat org.apache.hadoop.ipc.Client.call(Client.java:1475)\n\tat org.apache.hadoop.ipc.Client.call(Client.java:1412)\n\tat org.apache.hadoop.ipc.ProtobufRpcEngine$Invoker.invoke(ProtobufRpcEngine.java:229)\n\tat com.sun.proxy.$Proxy20.mkdirs(Unknown Source)\n\tat org.apache.hadoop.hdfs.protocolPB.ClientNamenodeProtocolTranslatorPB.mkdirs(ClientNamenodeProtocolTranslatorPB.java:558)\n\tat sun.reflect.NativeMethodAccessorImpl.invoke0(Native Method)\n\tat sun.reflect.NativeMethodAccessorImpl.invoke(NativeMethodAccessorImpl.java:62)\n\tat sun.reflect.DelegatingMethodAccessorImpl.invoke(DelegatingMethodAccessorImpl.java:43)\n\tat java.lang.reflect.Method.invoke(Method.java:497)\n\tat org.apache.hadoop.io.retry.RetryInvocationHandler.invokeMethod(RetryInvocationHandler.java:191)\n\tat org.apache.hadoop.io.retry.RetryInvocationHandler.invoke(RetryInvocationHandler.java:102)\n\tat com.sun.proxy.$Proxy21.mkdirs(Unknown Source)\n\tat org.apache.hadoop.hdfs.DFSClient.primitiveMkdir(DFSClient.java:3000)\n\tat org.apache.hadoop.hdfs.DFSClient.mkdirs(DFSClient.java:2970)\n\tat org.apache.hadoop.hdfs.DistributedFileSystem$21.doCall(DistributedFileSystem.java:1047)\n\tat org.apache.hadoop.hdfs.DistributedFileSystem$21.doCall(DistributedFileSystem.java:1043)\n\tat org.apache.hadoop.fs.FileSystemLinkResolver.resolve(FileSystemLinkResolver.java:81)\n\tat org.apache.hadoop.hdfs.DistributedFileSystem.mkdirsInternal(DistributedFileSystem.java:1043)\n\tat org.apache.hadoop.hdfs.DistributedFileSystem.mkdirs(DistributedFileSystem.java:1036)\n\tat org.apache.hadoop.fs.FileSystem.mkdirs(FileSystem.java:1877)\n\tat org.apache.hadoop.mapreduce.lib.output.FileOutputCommitter.setupJob(FileOutputCommitter.java:305)\n\tat org.apache.spark.sql.execution.datasources.BaseWriterContainer.driverSideSetup(WriterContainer.scala:108)\n\tat org.apache.spark.sql.execution.datasources.InsertIntoHadoopFsRelation$$anonfun$run$1.apply$mcV$sp(InsertIntoHadoopFsRelation.scala:147)\n\tat org.apache.spark.sql.execution.datasources.InsertIntoHadoopFsRelation$$anonfun$run$1.apply(InsertIntoHadoopFsRelation.scala:108)\n\tat org.apache.spark.sql.execution.datasources.InsertIntoHadoopFsRelation$$anonfun$run$1.apply(InsertIntoHadoopFsRelation.scala:108)\n\tat org.apache.spark.sql.execution.SQLExecution$.withNewExecutionId(SQLExecution.scala:56)\n\tat org.apache.spark.sql.execution.datasources.InsertIntoHadoopFsRelation.run(InsertIntoHadoopFsRelation.scala:108)\n\tat org.apache.spark.sql.execution.ExecutedCommand.sideEffectResult$lzycompute(commands.scala:58)\n\tat org.apache.spark.sql.execution.ExecutedCommand.sideEffectResult(commands.scala:56)\n\tat org.apache.spark.sql.execution.ExecutedCommand.doExecute(commands.scala:70)\n\tat org.apache.spark.sql.execution.SparkPlan$$anonfun$execute$5.apply(SparkPlan.scala:132)\n\tat org.apache.spark.sql.execution.SparkPlan$$anonfun$execute$5.apply(SparkPlan.scala:130)\n\tat org.apache.spark.rdd.RDDOperationScope$.withScope(RDDOperationScope.scala:150)\n\tat org.apache.spark.sql.execution.SparkPlan.execute(SparkPlan.scala:130)\n\tat org.apache.spark.sql.execution.QueryExecution.toRdd$lzycompute(QueryExecution.scala:55)\n\tat org.apache.spark.sql.execution.QueryExecution.toRdd(QueryExecution.scala:55)\n\tat org.apache.spark.sql.execution.datasources.ResolvedDataSource$.apply(ResolvedDataSource.scala:256)\n\tat org.apache.spark.sql.DataFrameWriter.save(DataFrameWriter.scala:148)\n\tat org.apache.spark.sql.DataFrameWriter.save(DataFrameWriter.scala:139)\n\tat org.apache.spark.sql.DataFrameWriter.json(DataFrameWriter.scala:323)\n\tat sun.reflect.NativeMethodAccessorImpl.invoke0(Native Method)\n\tat sun.reflect.NativeMethodAccessorImpl.invoke(NativeMethodAccessorImpl.java:62)\n\tat sun.reflect.DelegatingMethodAccessorImpl.invoke(DelegatingMethodAccessorImpl.java:43)\n\tat java.lang.reflect.Method.invoke(Method.java:497)\n\tat py4j.reflection.MethodInvoker.invoke(MethodInvoker.java:231)\n\tat py4j.reflection.ReflectionEngine.invoke(ReflectionEngine.java:381)\n\tat py4j.Gateway.invoke(Gateway.java:259)\n\tat py4j.commands.AbstractCommand.invokeMethod(AbstractCommand.java:133)\n\tat py4j.commands.CallCommand.execute(CallCommand.java:79)\n\tat py4j.GatewayConnection.run(GatewayConnection.java:209)\n\tat java.lang.Thread.run(Thread.java:745)\n"
     ]
    }
   ],
   "source": [
    "logDf.write.json(\"save\")"
   ]
  },
  {
   "cell_type": "code",
   "execution_count": null,
   "metadata": {
    "collapsed": true
   },
   "outputs": [],
   "source": []
  }
 ],
 "metadata": {
  "kernelspec": {
   "display_name": "Python 2",
   "language": "python",
   "name": "python2"
  },
  "language_info": {
   "codemirror_mode": {
    "name": "ipython",
    "version": 2
   },
   "file_extension": ".py",
   "mimetype": "text/x-python",
   "name": "python",
   "nbconvert_exporter": "python",
   "pygments_lexer": "ipython2",
   "version": "2.7.11"
  }
 },
 "nbformat": 4,
 "nbformat_minor": 0
}
