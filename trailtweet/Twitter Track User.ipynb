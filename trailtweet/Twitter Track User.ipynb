{
 "cells": [
  {
   "cell_type": "code",
   "execution_count": 1,
   "metadata": {
    "collapsed": true
   },
   "outputs": [],
   "source": [
    "import tweepy"
   ]
  },
  {
   "cell_type": "code",
   "execution_count": 2,
   "metadata": {
    "collapsed": true
   },
   "outputs": [],
   "source": [
    "import json"
   ]
  },
  {
   "cell_type": "code",
   "execution_count": 3,
   "metadata": {
    "collapsed": true
   },
   "outputs": [],
   "source": [
    "consumer_key = \"dVvU9OAtEMESNBRmqrHDHZY8x\"\n",
    "consumer_secret = \"M01fR3LJhFCuqtoYBCdHyQ3vtldpFqCBQVN2ftiol5mgB99m77\"\n",
    "access_token = \"4873715536-faeWNJFGtknR0mz5A9QQjHh8HtVEBb9JushyCPW\"\n",
    "access_token_secret = \"7e7wcMJFulTmjTg0eDyUCLgpjUizH135KQh77OS48vlQk\"\n"
   ]
  },
  {
   "cell_type": "code",
   "execution_count": 4,
   "metadata": {
    "collapsed": true
   },
   "outputs": [],
   "source": [
    "auth = tweepy.OAuthHandler(consumer_key,consumer_secret)\n",
    "auth.set_access_token(access_token,access_token_secret)\n",
    "api = tweepy.API(auth)\n"
   ]
  },
  {
   "cell_type": "code",
   "execution_count": 6,
   "metadata": {
    "collapsed": false
   },
   "outputs": [
    {
     "name": "stdout",
     "output_type": "stream",
     "text": [
      "venkat\n"
     ]
    }
   ],
   "source": [
    "print(api.me().name)"
   ]
  },
  {
   "cell_type": "code",
   "execution_count": 8,
   "metadata": {
    "collapsed": false
   },
   "outputs": [],
   "source": [
    "tweets = api.user_timeline(screen_name=\"itsvenkatab1\")"
   ]
  },
  {
   "cell_type": "code",
   "execution_count": null,
   "metadata": {
    "collapsed": false,
    "scrolled": false
   },
   "outputs": [],
   "source": [
    "for tweet in tweets:\n",
    "    with open('json_tweets', 'w') as outfile:\n",
    "        json.dump(tweet._json, outfile)"
   ]
  },
  {
   "cell_type": "code",
   "execution_count": 15,
   "metadata": {
    "collapsed": false
   },
   "outputs": [
    {
     "data": {
      "text/plain": [
       "tweepy.models.ResultSet"
      ]
     },
     "execution_count": 15,
     "metadata": {},
     "output_type": "execute_result"
    }
   ],
   "source": [
    "type(tweets)"
   ]
  },
  {
   "cell_type": "code",
   "execution_count": 16,
   "metadata": {
    "collapsed": false
   },
   "outputs": [
    {
     "data": {
      "text/plain": [
       "tweepy.models.Status"
      ]
     },
     "execution_count": 16,
     "metadata": {},
     "output_type": "execute_result"
    }
   ],
   "source": [
    "type(tweet)"
   ]
  },
  {
   "cell_type": "code",
   "execution_count": 18,
   "metadata": {
    "collapsed": true
   },
   "outputs": [],
   "source": [
    "tweets2 = api.user_timeline(screen_name=\"badcinc\")"
   ]
  },
  {
   "cell_type": "code",
   "execution_count": 20,
   "metadata": {
    "collapsed": false
   },
   "outputs": [
    {
     "name": "stdout",
     "output_type": "stream",
     "text": [
      "{\"contributors\": null, \"in_reply_to_screen_name\": null, \"source\": \"<a href=\\\"http://twitter.com\\\" rel=\\\"nofollow\\\">Twitter Web Client</a>\", \"in_reply_to_user_id\": null, \"geo\": null, \"favorited\": false, \"user\": {\"entities\": {\"description\": {\"urls\": []}}, \"follow_request_sent\": false, \"default_profile_image\": true, \"friends_count\": 615, \"location\": \"\", \"geo_enabled\": false, \"is_translator\": false, \"created_at\": \"Sun Oct 12 18:15:28 +0000 2014\", \"profile_background_color\": \"C0DEED\", \"followers_count\": 31, \"profile_background_image_url\": \"http://abs.twimg.com/images/themes/theme1/bg.png\", \"statuses_count\": 10, \"url\": null, \"favourites_count\": 1, \"is_translation_enabled\": false, \"verified\": false, \"listed_count\": 0, \"following\": false, \"time_zone\": \"Pacific Time (US & Canada)\", \"lang\": \"en\", \"profile_background_tile\": false, \"screen_name\": \"badcinc\", \"utc_offset\": -25200, \"protected\": false, \"profile_text_color\": \"333333\", \"profile_use_background_image\": true, \"profile_image_url\": \"http://abs.twimg.com/sticky/default_profile_images/default_profile_2_normal.png\", \"id_str\": \"2853467773\", \"name\": \"Rohith Reddy\", \"id\": 2853467773, \"profile_background_image_url_https\": \"https://abs.twimg.com/images/themes/theme1/bg.png\", \"has_extended_profile\": false, \"contributors_enabled\": false, \"description\": \"\", \"profile_image_url_https\": \"https://abs.twimg.com/sticky/default_profile_images/default_profile_2_normal.png\", \"default_profile\": true, \"profile_link_color\": \"0084B4\", \"notifications\": false, \"profile_sidebar_border_color\": \"C0DEED\", \"profile_sidebar_fill_color\": \"DDEEF6\"}, \"place\": null, \"truncated\": false, \"in_reply_to_user_id_str\": null, \"in_reply_to_status_id_str\": null, \"lang\": \"en\", \"coordinates\": null, \"entities\": {\"symbols\": [], \"user_mentions\": [], \"urls\": [], \"hashtags\": []}, \"in_reply_to_status_id\": null, \"text\": \"Hello Customercentria !\", \"id_str\": \"727797812574998528\", \"id\": 727797812574998528, \"retweeted\": false, \"created_at\": \"Wed May 04 09:51:35 +0000 2016\", \"retweet_count\": 0, \"is_quote_status\": false, \"favorite_count\": 5}\n",
      "{\"contributors\": null, \"in_reply_to_screen_name\": null, \"source\": \"<a href=\\\"https://mobile.twitter.com\\\" rel=\\\"nofollow\\\">Mobile Web (M5)</a>\", \"in_reply_to_user_id\": null, \"geo\": null, \"favorited\": false, \"user\": {\"entities\": {\"description\": {\"urls\": []}}, \"follow_request_sent\": false, \"default_profile_image\": true, \"friends_count\": 615, \"location\": \"\", \"geo_enabled\": false, \"is_translator\": false, \"created_at\": \"Sun Oct 12 18:15:28 +0000 2014\", \"profile_background_color\": \"C0DEED\", \"followers_count\": 31, \"profile_background_image_url\": \"http://abs.twimg.com/images/themes/theme1/bg.png\", \"statuses_count\": 10, \"url\": null, \"favourites_count\": 1, \"is_translation_enabled\": false, \"verified\": false, \"listed_count\": 0, \"following\": false, \"time_zone\": \"Pacific Time (US & Canada)\", \"lang\": \"en\", \"profile_background_tile\": false, \"screen_name\": \"badcinc\", \"utc_offset\": -25200, \"protected\": false, \"profile_text_color\": \"333333\", \"profile_use_background_image\": true, \"profile_image_url\": \"http://abs.twimg.com/sticky/default_profile_images/default_profile_2_normal.png\", \"id_str\": \"2853467773\", \"name\": \"Rohith Reddy\", \"id\": 2853467773, \"profile_background_image_url_https\": \"https://abs.twimg.com/images/themes/theme1/bg.png\", \"has_extended_profile\": false, \"contributors_enabled\": false, \"description\": \"\", \"profile_image_url_https\": \"https://abs.twimg.com/sticky/default_profile_images/default_profile_2_normal.png\", \"default_profile\": true, \"profile_link_color\": \"0084B4\", \"notifications\": false, \"profile_sidebar_border_color\": \"C0DEED\", \"profile_sidebar_fill_color\": \"DDEEF6\"}, \"place\": null, \"truncated\": false, \"in_reply_to_user_id_str\": null, \"in_reply_to_status_id_str\": null, \"lang\": \"pt\", \"coordinates\": null, \"entities\": {\"symbols\": [], \"user_mentions\": [], \"urls\": [], \"hashtags\": []}, \"in_reply_to_status_id\": null, \"text\": \"Hello customercentria. xxyyzzccbb\", \"id_str\": \"727751432036831233\", \"id\": 727751432036831233, \"retweeted\": false, \"created_at\": \"Wed May 04 06:47:17 +0000 2016\", \"retweet_count\": 0, \"is_quote_status\": false, \"favorite_count\": 0}\n",
      "{\"contributors\": null, \"in_reply_to_screen_name\": null, \"source\": \"<a href=\\\"https://mobile.twitter.com\\\" rel=\\\"nofollow\\\">Mobile Web (M5)</a>\", \"in_reply_to_user_id\": null, \"geo\": null, \"favorited\": false, \"user\": {\"entities\": {\"description\": {\"urls\": []}}, \"follow_request_sent\": false, \"default_profile_image\": true, \"friends_count\": 615, \"location\": \"\", \"geo_enabled\": false, \"is_translator\": false, \"created_at\": \"Sun Oct 12 18:15:28 +0000 2014\", \"profile_background_color\": \"C0DEED\", \"followers_count\": 31, \"profile_background_image_url\": \"http://abs.twimg.com/images/themes/theme1/bg.png\", \"statuses_count\": 10, \"url\": null, \"favourites_count\": 1, \"is_translation_enabled\": false, \"verified\": false, \"listed_count\": 0, \"following\": false, \"time_zone\": \"Pacific Time (US & Canada)\", \"lang\": \"en\", \"profile_background_tile\": false, \"screen_name\": \"badcinc\", \"utc_offset\": -25200, \"protected\": false, \"profile_text_color\": \"333333\", \"profile_use_background_image\": true, \"profile_image_url\": \"http://abs.twimg.com/sticky/default_profile_images/default_profile_2_normal.png\", \"id_str\": \"2853467773\", \"name\": \"Rohith Reddy\", \"id\": 2853467773, \"profile_background_image_url_https\": \"https://abs.twimg.com/images/themes/theme1/bg.png\", \"has_extended_profile\": false, \"contributors_enabled\": false, \"description\": \"\", \"profile_image_url_https\": \"https://abs.twimg.com/sticky/default_profile_images/default_profile_2_normal.png\", \"default_profile\": true, \"profile_link_color\": \"0084B4\", \"notifications\": false, \"profile_sidebar_border_color\": \"C0DEED\", \"profile_sidebar_fill_color\": \"DDEEF6\"}, \"place\": null, \"truncated\": false, \"in_reply_to_user_id_str\": null, \"in_reply_to_status_id_str\": null, \"lang\": \"fr\", \"coordinates\": null, \"entities\": {\"symbols\": [], \"user_mentions\": [], \"urls\": [], \"hashtags\": []}, \"in_reply_to_status_id\": null, \"text\": \"Coolnhot\", \"id_str\": \"727721436501159936\", \"id\": 727721436501159936, \"retweeted\": false, \"created_at\": \"Wed May 04 04:48:05 +0000 2016\", \"retweet_count\": 0, \"is_quote_status\": false, \"favorite_count\": 0}\n",
      "{\"contributors\": null, \"in_reply_to_screen_name\": null, \"source\": \"<a href=\\\"https://mobile.twitter.com\\\" rel=\\\"nofollow\\\">Mobile Web (M5)</a>\", \"in_reply_to_user_id\": null, \"geo\": null, \"favorited\": false, \"user\": {\"entities\": {\"description\": {\"urls\": []}}, \"follow_request_sent\": false, \"default_profile_image\": true, \"friends_count\": 615, \"location\": \"\", \"geo_enabled\": false, \"is_translator\": false, \"created_at\": \"Sun Oct 12 18:15:28 +0000 2014\", \"profile_background_color\": \"C0DEED\", \"followers_count\": 31, \"profile_background_image_url\": \"http://abs.twimg.com/images/themes/theme1/bg.png\", \"statuses_count\": 10, \"url\": null, \"favourites_count\": 1, \"is_translation_enabled\": false, \"verified\": false, \"listed_count\": 0, \"following\": false, \"time_zone\": \"Pacific Time (US & Canada)\", \"lang\": \"en\", \"profile_background_tile\": false, \"screen_name\": \"badcinc\", \"utc_offset\": -25200, \"protected\": false, \"profile_text_color\": \"333333\", \"profile_use_background_image\": true, \"profile_image_url\": \"http://abs.twimg.com/sticky/default_profile_images/default_profile_2_normal.png\", \"id_str\": \"2853467773\", \"name\": \"Rohith Reddy\", \"id\": 2853467773, \"profile_background_image_url_https\": \"https://abs.twimg.com/images/themes/theme1/bg.png\", \"has_extended_profile\": false, \"contributors_enabled\": false, \"description\": \"\", \"profile_image_url_https\": \"https://abs.twimg.com/sticky/default_profile_images/default_profile_2_normal.png\", \"default_profile\": true, \"profile_link_color\": \"0084B4\", \"notifications\": false, \"profile_sidebar_border_color\": \"C0DEED\", \"profile_sidebar_fill_color\": \"DDEEF6\"}, \"place\": null, \"truncated\": false, \"in_reply_to_user_id_str\": null, \"in_reply_to_status_id_str\": null, \"lang\": \"en\", \"coordinates\": null, \"entities\": {\"symbols\": [], \"user_mentions\": [], \"urls\": [], \"hashtags\": []}, \"in_reply_to_status_id\": null, \"text\": \"Hello customercentria\", \"id_str\": \"727720894945239040\", \"id\": 727720894945239040, \"retweeted\": false, \"created_at\": \"Wed May 04 04:45:56 +0000 2016\", \"retweet_count\": 0, \"is_quote_status\": false, \"favorite_count\": 0}\n",
      "{\"contributors\": null, \"in_reply_to_screen_name\": null, \"source\": \"<a href=\\\"https://mobile.twitter.com\\\" rel=\\\"nofollow\\\">Mobile Web (M5)</a>\", \"in_reply_to_user_id\": null, \"geo\": null, \"favorited\": false, \"user\": {\"entities\": {\"description\": {\"urls\": []}}, \"follow_request_sent\": false, \"default_profile_image\": true, \"friends_count\": 615, \"location\": \"\", \"geo_enabled\": false, \"is_translator\": false, \"created_at\": \"Sun Oct 12 18:15:28 +0000 2014\", \"profile_background_color\": \"C0DEED\", \"followers_count\": 31, \"profile_background_image_url\": \"http://abs.twimg.com/images/themes/theme1/bg.png\", \"statuses_count\": 10, \"url\": null, \"favourites_count\": 1, \"is_translation_enabled\": false, \"verified\": false, \"listed_count\": 0, \"following\": false, \"time_zone\": \"Pacific Time (US & Canada)\", \"lang\": \"en\", \"profile_background_tile\": false, \"screen_name\": \"badcinc\", \"utc_offset\": -25200, \"protected\": false, \"profile_text_color\": \"333333\", \"profile_use_background_image\": true, \"profile_image_url\": \"http://abs.twimg.com/sticky/default_profile_images/default_profile_2_normal.png\", \"id_str\": \"2853467773\", \"name\": \"Rohith Reddy\", \"id\": 2853467773, \"profile_background_image_url_https\": \"https://abs.twimg.com/images/themes/theme1/bg.png\", \"has_extended_profile\": false, \"contributors_enabled\": false, \"description\": \"\", \"profile_image_url_https\": \"https://abs.twimg.com/sticky/default_profile_images/default_profile_2_normal.png\", \"default_profile\": true, \"profile_link_color\": \"0084B4\", \"notifications\": false, \"profile_sidebar_border_color\": \"C0DEED\", \"profile_sidebar_fill_color\": \"DDEEF6\"}, \"place\": null, \"truncated\": false, \"in_reply_to_user_id_str\": null, \"in_reply_to_status_id_str\": null, \"lang\": \"en\", \"coordinates\": null, \"entities\": {\"symbols\": [], \"user_mentions\": [], \"urls\": [], \"hashtags\": []}, \"in_reply_to_status_id\": null, \"text\": \"Hello customercentia\", \"id_str\": \"727720795183697920\", \"id\": 727720795183697920, \"retweeted\": false, \"created_at\": \"Wed May 04 04:45:32 +0000 2016\", \"retweet_count\": 0, \"is_quote_status\": false, \"favorite_count\": 0}\n",
      "{\"contributors\": null, \"in_reply_to_screen_name\": null, \"source\": \"<a href=\\\"http://twitter.com\\\" rel=\\\"nofollow\\\">Twitter Web Client</a>\", \"in_reply_to_user_id\": null, \"geo\": null, \"favorited\": false, \"user\": {\"entities\": {\"description\": {\"urls\": []}}, \"follow_request_sent\": false, \"default_profile_image\": true, \"friends_count\": 615, \"location\": \"\", \"geo_enabled\": false, \"is_translator\": false, \"created_at\": \"Sun Oct 12 18:15:28 +0000 2014\", \"profile_background_color\": \"C0DEED\", \"followers_count\": 31, \"profile_background_image_url\": \"http://abs.twimg.com/images/themes/theme1/bg.png\", \"statuses_count\": 10, \"url\": null, \"favourites_count\": 1, \"is_translation_enabled\": false, \"verified\": false, \"listed_count\": 0, \"following\": false, \"time_zone\": \"Pacific Time (US & Canada)\", \"lang\": \"en\", \"profile_background_tile\": false, \"screen_name\": \"badcinc\", \"utc_offset\": -25200, \"protected\": false, \"profile_text_color\": \"333333\", \"profile_use_background_image\": true, \"profile_image_url\": \"http://abs.twimg.com/sticky/default_profile_images/default_profile_2_normal.png\", \"id_str\": \"2853467773\", \"name\": \"Rohith Reddy\", \"id\": 2853467773, \"profile_background_image_url_https\": \"https://abs.twimg.com/images/themes/theme1/bg.png\", \"has_extended_profile\": false, \"contributors_enabled\": false, \"description\": \"\", \"profile_image_url_https\": \"https://abs.twimg.com/sticky/default_profile_images/default_profile_2_normal.png\", \"default_profile\": true, \"profile_link_color\": \"0084B4\", \"notifications\": false, \"profile_sidebar_border_color\": \"C0DEED\", \"profile_sidebar_fill_color\": \"DDEEF6\"}, \"place\": null, \"truncated\": false, \"in_reply_to_user_id_str\": null, \"in_reply_to_status_id_str\": null, \"lang\": \"en\", \"coordinates\": null, \"entities\": {\"symbols\": [], \"user_mentions\": [{\"screen_name\": \"itsvenkatab1\", \"id_str\": \"4873715536\", \"name\": \"venkat\", \"id\": 4873715536, \"indices\": [4, 17]}], \"urls\": [], \"hashtags\": []}, \"in_reply_to_status_id\": null, \"text\": \"hey @itsvenkatab1 are you my classmate?\", \"id_str\": \"727475763839160321\", \"id\": 727475763839160321, \"retweeted\": false, \"created_at\": \"Tue May 03 12:31:52 +0000 2016\", \"retweet_count\": 1, \"is_quote_status\": false, \"favorite_count\": 0}\n",
      "{\"contributors\": null, \"in_reply_to_screen_name\": null, \"source\": \"<a href=\\\"http://twitter.com\\\" rel=\\\"nofollow\\\">Twitter Web Client</a>\", \"in_reply_to_user_id\": null, \"geo\": null, \"favorited\": false, \"user\": {\"entities\": {\"description\": {\"urls\": []}}, \"follow_request_sent\": false, \"default_profile_image\": true, \"friends_count\": 615, \"location\": \"\", \"geo_enabled\": false, \"is_translator\": false, \"created_at\": \"Sun Oct 12 18:15:28 +0000 2014\", \"profile_background_color\": \"C0DEED\", \"followers_count\": 31, \"profile_background_image_url\": \"http://abs.twimg.com/images/themes/theme1/bg.png\", \"statuses_count\": 10, \"url\": null, \"favourites_count\": 1, \"is_translation_enabled\": false, \"verified\": false, \"listed_count\": 0, \"following\": false, \"time_zone\": \"Pacific Time (US & Canada)\", \"lang\": \"en\", \"profile_background_tile\": false, \"screen_name\": \"badcinc\", \"utc_offset\": -25200, \"protected\": false, \"profile_text_color\": \"333333\", \"profile_use_background_image\": true, \"profile_image_url\": \"http://abs.twimg.com/sticky/default_profile_images/default_profile_2_normal.png\", \"id_str\": \"2853467773\", \"name\": \"Rohith Reddy\", \"id\": 2853467773, \"profile_background_image_url_https\": \"https://abs.twimg.com/images/themes/theme1/bg.png\", \"has_extended_profile\": false, \"contributors_enabled\": false, \"description\": \"\", \"profile_image_url_https\": \"https://abs.twimg.com/sticky/default_profile_images/default_profile_2_normal.png\", \"default_profile\": true, \"profile_link_color\": \"0084B4\", \"notifications\": false, \"profile_sidebar_border_color\": \"C0DEED\", \"profile_sidebar_fill_color\": \"DDEEF6\"}, \"place\": null, \"truncated\": false, \"in_reply_to_user_id_str\": null, \"in_reply_to_status_id_str\": null, \"lang\": \"en\", \"coordinates\": null, \"entities\": {\"symbols\": [], \"user_mentions\": [], \"urls\": [], \"hashtags\": []}, \"in_reply_to_status_id\": null, \"text\": \"this a good day CustomerCentria ! ?\", \"id_str\": \"727469987217178624\", \"id\": 727469987217178624, \"retweeted\": false, \"created_at\": \"Tue May 03 12:08:55 +0000 2016\", \"retweet_count\": 0, \"is_quote_status\": false, \"favorite_count\": 0}\n",
      "{\"contributors\": null, \"in_reply_to_screen_name\": \"badcinc\", \"source\": \"<a href=\\\"https://mobile.twitter.com\\\" rel=\\\"nofollow\\\">Mobile Web (M5)</a>\", \"in_reply_to_user_id\": 2853467773, \"favorited\": false, \"geo\": null, \"extended_entities\": {\"media\": [{\"media_url_https\": \"https://pbs.twimg.com/media/CfbuDbNUsAEV8xr.jpg\", \"media_url\": \"http://pbs.twimg.com/media/CfbuDbNUsAEV8xr.jpg\", \"indices\": [79, 102], \"sizes\": {\"small\": {\"resize\": \"fit\", \"h\": 191, \"w\": 340}, \"thumb\": {\"resize\": \"crop\", \"h\": 150, \"w\": 150}, \"large\": {\"resize\": \"fit\", \"h\": 576, \"w\": 1024}, \"medium\": {\"resize\": \"fit\", \"h\": 337, \"w\": 600}}, \"url\": \"https://t.co/L1CAt2oFE9\", \"type\": \"photo\", \"id_str\": \"718022933222830081\", \"id\": 718022933222830081, \"expanded_url\": \"http://twitter.com/htihor/status/718022933377982464/photo/1\", \"display_url\": \"pic.twitter.com/L1CAt2oFE9\"}]}, \"user\": {\"entities\": {\"description\": {\"urls\": []}}, \"follow_request_sent\": false, \"default_profile_image\": true, \"friends_count\": 615, \"location\": \"\", \"geo_enabled\": false, \"is_translator\": false, \"created_at\": \"Sun Oct 12 18:15:28 +0000 2014\", \"profile_background_color\": \"C0DEED\", \"followers_count\": 31, \"profile_background_image_url\": \"http://abs.twimg.com/images/themes/theme1/bg.png\", \"statuses_count\": 10, \"url\": null, \"favourites_count\": 1, \"is_translation_enabled\": false, \"verified\": false, \"listed_count\": 0, \"following\": false, \"time_zone\": \"Pacific Time (US & Canada)\", \"lang\": \"en\", \"profile_background_tile\": false, \"screen_name\": \"badcinc\", \"utc_offset\": -25200, \"protected\": false, \"profile_text_color\": \"333333\", \"profile_use_background_image\": true, \"profile_image_url\": \"http://abs.twimg.com/sticky/default_profile_images/default_profile_2_normal.png\", \"id_str\": \"2853467773\", \"name\": \"Rohith Reddy\", \"id\": 2853467773, \"profile_background_image_url_https\": \"https://abs.twimg.com/images/themes/theme1/bg.png\", \"has_extended_profile\": false, \"contributors_enabled\": false, \"description\": \"\", \"profile_image_url_https\": \"https://abs.twimg.com/sticky/default_profile_images/default_profile_2_normal.png\", \"default_profile\": true, \"profile_link_color\": \"0084B4\", \"notifications\": false, \"profile_sidebar_border_color\": \"C0DEED\", \"profile_sidebar_fill_color\": \"DDEEF6\"}, \"place\": null, \"truncated\": false, \"in_reply_to_user_id_str\": \"2853467773\", \"in_reply_to_status_id_str\": \"718018249808420864\", \"lang\": \"en\", \"coordinates\": null, \"entities\": {\"symbols\": [], \"user_mentions\": [{\"screen_name\": \"TheOfficialSBI\", \"id_str\": \"2251588934\", \"name\": \"State Bank of India\", \"id\": 2251588934, \"indices\": [0, 15]}], \"urls\": [], \"media\": [{\"media_url_https\": \"https://pbs.twimg.com/media/CfbuDbNUsAEV8xr.jpg\", \"media_url\": \"http://pbs.twimg.com/media/CfbuDbNUsAEV8xr.jpg\", \"indices\": [79, 102], \"sizes\": {\"small\": {\"resize\": \"fit\", \"h\": 191, \"w\": 340}, \"thumb\": {\"resize\": \"crop\", \"h\": 150, \"w\": 150}, \"large\": {\"resize\": \"fit\", \"h\": 576, \"w\": 1024}, \"medium\": {\"resize\": \"fit\", \"h\": 337, \"w\": 600}}, \"url\": \"https://t.co/L1CAt2oFE9\", \"type\": \"photo\", \"id_str\": \"718022933222830081\", \"id\": 718022933222830081, \"expanded_url\": \"http://twitter.com/htihor/status/718022933377982464/photo/1\", \"display_url\": \"pic.twitter.com/L1CAt2oFE9\"}], \"hashtags\": []}, \"in_reply_to_status_id\": 718018249808420864, \"text\": \"@TheOfficialSBI, is this a new scheme where employees can make their new rules https://t.co/L1CAt2oFE9\", \"id_str\": \"718022933377982464\", \"id\": 718022933377982464, \"possibly_sensitive\": false, \"retweeted\": false, \"created_at\": \"Thu Apr 07 10:29:42 +0000 2016\", \"retweet_count\": 0, \"is_quote_status\": false, \"favorite_count\": 0}\n",
      "{\"contributors\": null, \"in_reply_to_screen_name\": \"TheOfficialSBI\", \"source\": \"<a href=\\\"https://mobile.twitter.com\\\" rel=\\\"nofollow\\\">Mobile Web (M5)</a>\", \"in_reply_to_user_id\": 2251588934, \"geo\": null, \"favorited\": false, \"user\": {\"entities\": {\"description\": {\"urls\": []}}, \"follow_request_sent\": false, \"default_profile_image\": true, \"friends_count\": 615, \"location\": \"\", \"geo_enabled\": false, \"is_translator\": false, \"created_at\": \"Sun Oct 12 18:15:28 +0000 2014\", \"profile_background_color\": \"C0DEED\", \"followers_count\": 31, \"profile_background_image_url\": \"http://abs.twimg.com/images/themes/theme1/bg.png\", \"statuses_count\": 10, \"url\": null, \"favourites_count\": 1, \"is_translation_enabled\": false, \"verified\": false, \"listed_count\": 0, \"following\": false, \"time_zone\": \"Pacific Time (US & Canada)\", \"lang\": \"en\", \"profile_background_tile\": false, \"screen_name\": \"badcinc\", \"utc_offset\": -25200, \"protected\": false, \"profile_text_color\": \"333333\", \"profile_use_background_image\": true, \"profile_image_url\": \"http://abs.twimg.com/sticky/default_profile_images/default_profile_2_normal.png\", \"id_str\": \"2853467773\", \"name\": \"Rohith Reddy\", \"id\": 2853467773, \"profile_background_image_url_https\": \"https://abs.twimg.com/images/themes/theme1/bg.png\", \"has_extended_profile\": false, \"contributors_enabled\": false, \"description\": \"\", \"profile_image_url_https\": \"https://abs.twimg.com/sticky/default_profile_images/default_profile_2_normal.png\", \"default_profile\": true, \"profile_link_color\": \"0084B4\", \"notifications\": false, \"profile_sidebar_border_color\": \"C0DEED\", \"profile_sidebar_fill_color\": \"DDEEF6\"}, \"place\": null, \"truncated\": false, \"in_reply_to_user_id_str\": \"2251588934\", \"in_reply_to_status_id_str\": null, \"lang\": \"en\", \"coordinates\": null, \"entities\": {\"symbols\": [], \"user_mentions\": [{\"screen_name\": \"TheOfficialSBI\", \"id_str\": \"2251588934\", \"name\": \"State Bank of India\", \"id\": 2251588934, \"indices\": [0, 15]}], \"urls\": [], \"hashtags\": []}, \"in_reply_to_status_id\": null, \"text\": \"@TheOfficialSBI  , so from now on we can only collect pin for ATM cards at branches during 4 - 5 pm ?\", \"id_str\": \"718018249808420864\", \"id\": 718018249808420864, \"retweeted\": false, \"created_at\": \"Thu Apr 07 10:11:05 +0000 2016\", \"retweet_count\": 0, \"is_quote_status\": false, \"favorite_count\": 0}\n",
      "{\"contributors\": null, \"in_reply_to_screen_name\": null, \"source\": \"<a href=\\\"http://twitter.com\\\" rel=\\\"nofollow\\\">Twitter Web Client</a>\", \"in_reply_to_user_id\": null, \"geo\": null, \"favorited\": false, \"user\": {\"entities\": {\"description\": {\"urls\": []}}, \"follow_request_sent\": false, \"default_profile_image\": true, \"friends_count\": 615, \"location\": \"\", \"geo_enabled\": false, \"is_translator\": false, \"created_at\": \"Sun Oct 12 18:15:28 +0000 2014\", \"profile_background_color\": \"C0DEED\", \"followers_count\": 31, \"profile_background_image_url\": \"http://abs.twimg.com/images/themes/theme1/bg.png\", \"statuses_count\": 10, \"url\": null, \"favourites_count\": 1, \"is_translation_enabled\": false, \"verified\": false, \"listed_count\": 0, \"following\": false, \"time_zone\": \"Pacific Time (US & Canada)\", \"lang\": \"en\", \"profile_background_tile\": false, \"screen_name\": \"badcinc\", \"utc_offset\": -25200, \"protected\": false, \"profile_text_color\": \"333333\", \"profile_use_background_image\": true, \"profile_image_url\": \"http://abs.twimg.com/sticky/default_profile_images/default_profile_2_normal.png\", \"id_str\": \"2853467773\", \"name\": \"Rohith Reddy\", \"id\": 2853467773, \"profile_background_image_url_https\": \"https://abs.twimg.com/images/themes/theme1/bg.png\", \"has_extended_profile\": false, \"contributors_enabled\": false, \"description\": \"\", \"profile_image_url_https\": \"https://abs.twimg.com/sticky/default_profile_images/default_profile_2_normal.png\", \"default_profile\": true, \"profile_link_color\": \"0084B4\", \"notifications\": false, \"profile_sidebar_border_color\": \"C0DEED\", \"profile_sidebar_fill_color\": \"DDEEF6\"}, \"place\": null, \"truncated\": false, \"in_reply_to_user_id_str\": null, \"in_reply_to_status_id_str\": null, \"lang\": \"en\", \"coordinates\": null, \"entities\": {\"symbols\": [], \"user_mentions\": [], \"urls\": [], \"hashtags\": []}, \"in_reply_to_status_id\": null, \"text\": \"! Hello World\", \"id_str\": \"526970511427776514\", \"id\": 526970511427776514, \"retweeted\": false, \"created_at\": \"Tue Oct 28 05:35:35 +0000 2014\", \"retweet_count\": 0, \"is_quote_status\": false, \"favorite_count\": 0}\n"
     ]
    }
   ],
   "source": [
    "for tweet in tweets2:\n",
    "    print(json.dumps(tweet._json))"
   ]
  },
  {
   "cell_type": "code",
   "execution_count": 22,
   "metadata": {
    "collapsed": true
   },
   "outputs": [],
   "source": [
    "class MyStreamListener(tweepy.StreamListener):\n",
    "    def on_status(self, status):\n",
    "        print(status.text)\n",
    "    \n",
    "    def on_data(self, data):\n",
    "        print(json.loads(data))"
   ]
  },
  {
   "cell_type": "code",
   "execution_count": 23,
   "metadata": {
    "collapsed": true
   },
   "outputs": [],
   "source": [
    "myStreamListener = MyStreamListener()"
   ]
  },
  {
   "cell_type": "code",
   "execution_count": 24,
   "metadata": {
    "collapsed": true
   },
   "outputs": [],
   "source": [
    "myStream = tweepy.Stream(auth=api.auth, listener = myStreamListener)"
   ]
  },
  {
   "cell_type": "code",
   "execution_count": null,
   "metadata": {
    "collapsed": false
   },
   "outputs": [],
   "source": [
    "myStream.filter(track = ['Customercentria', 'tweepy', 'fluentd'])"
   ]
  },
  {
   "cell_type": "code",
   "execution_count": null,
   "metadata": {
    "collapsed": true
   },
   "outputs": [],
   "source": []
  }
 ],
 "metadata": {
  "kernelspec": {
   "display_name": "Python 3",
   "language": "python",
   "name": "python3"
  },
  "language_info": {
   "codemirror_mode": {
    "name": "ipython",
    "version": 3
   },
   "file_extension": ".py",
   "mimetype": "text/x-python",
   "name": "python",
   "nbconvert_exporter": "python",
   "pygments_lexer": "ipython3",
   "version": "3.5.1"
  }
 },
 "nbformat": 4,
 "nbformat_minor": 0
}
